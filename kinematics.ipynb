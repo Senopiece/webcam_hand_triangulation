{
 "cells": [
  {
   "cell_type": "code",
   "execution_count": 3,
   "id": "bfbbe8b2",
   "metadata": {},
   "outputs": [],
   "source": [
    "from typing import List\n",
    "import numpy as np\n",
    "\n",
    "\n",
    "def read_hands(file: str):\n",
    "    poses: List[np.ndarray] = []\n",
    "    pose_size = 20 * 3  # number of floats\n",
    "    with open(file, \"rb\") as f:\n",
    "        data = f.read()\n",
    "        total_floats = len(data) // 4  # float32 = 4 bytes\n",
    "        if total_floats % pose_size != 0:\n",
    "            raise ValueError(\"File size is not a multiple of single pose size\")\n",
    "        array = np.frombuffer(data, dtype=np.float32)\n",
    "        for i in range(0, total_floats, pose_size):\n",
    "            pose = array[i : i + pose_size].reshape((20, 3))\n",
    "            poses.append(pose)\n",
    "    return np.stack(poses, axis=0)"
   ]
  },
  {
   "cell_type": "code",
   "execution_count": 4,
   "id": "c3f3eabe",
   "metadata": {},
   "outputs": [],
   "source": [
    "import plotly.graph_objects as go\n",
    "import numpy as np\n",
    "import torch\n",
    "\n",
    "\n",
    "def plot_3d_hand(landmarks: torch.Tensor | np.ndarray):\n",
    "    if isinstance(landmarks, torch.Tensor):\n",
    "        landmarks = landmarks.detach().cpu().numpy()\n",
    "\n",
    "    fig = go.Figure()\n",
    "    n_pts = landmarks.shape[0]\n",
    "    labels = [str(i) for i in range(n_pts)]\n",
    "\n",
    "    # Plot landmarks as 3D markers + text labels\n",
    "    fig.add_trace(\n",
    "        go.Scatter3d(\n",
    "            x=landmarks[:, 0],\n",
    "            y=landmarks[:, 1],\n",
    "            z=landmarks[:, 2],\n",
    "            mode=\"markers+text\",\n",
    "            marker=dict(size=4, color=\"blue\"),\n",
    "            text=labels,\n",
    "            textposition=\"top center\",\n",
    "            textfont=dict(size=8, color=\"black\"),\n",
    "            name=\"Landmarks\",\n",
    "        )\n",
    "    )\n",
    "\n",
    "    connections = [\n",
    "        (0, 1),\n",
    "        (1, 2),\n",
    "        (2, 3),  # Thumb\n",
    "        (0, 4),\n",
    "        (4, 5),\n",
    "        (5, 6),\n",
    "        (6, 7),  # Index\n",
    "        (0, 8),\n",
    "        (8, 9),\n",
    "        (9, 10),\n",
    "        (10, 11),  # Middle\n",
    "        (0, 12),\n",
    "        (12, 13),\n",
    "        (13, 14),\n",
    "        (14, 15),  # Ring\n",
    "        (0, 16),\n",
    "        (16, 17),\n",
    "        (17, 18),\n",
    "        (18, 19),  # Pinky\n",
    "        # Palm\n",
    "        (1, 4),\n",
    "        (4, 8),\n",
    "        (8, 12),\n",
    "        (12, 16),\n",
    "    ]\n",
    "\n",
    "    # Plot connections (lines) between the landmarks\n",
    "    for i, j in connections:\n",
    "        fig.add_trace(\n",
    "            go.Scatter3d(\n",
    "                x=[landmarks[i, 0], landmarks[j, 0]],\n",
    "                y=[landmarks[i, 1], landmarks[j, 1]],\n",
    "                z=[landmarks[i, 2], landmarks[j, 2]],\n",
    "                mode=\"lines\",\n",
    "                line=dict(color=\"black\", width=2),\n",
    "                showlegend=False,\n",
    "            )\n",
    "        )\n",
    "\n",
    "    fig.update_layout(\n",
    "        scene=dict(\n",
    "            xaxis_title=\"X\",\n",
    "            yaxis_title=\"Y\",\n",
    "            zaxis_title=\"Z\",\n",
    "            xaxis=dict(autorange=\"reversed\"),  # This line inverts the X axis\n",
    "        ),\n",
    "        title=\"3D Hand Pose with Point Labels\",\n",
    "        margin=dict(l=0, r=0, b=0, t=30),\n",
    "    )\n",
    "\n",
    "    fig.show()"
   ]
  },
  {
   "cell_type": "code",
   "execution_count": 5,
   "id": "ac2f741e",
   "metadata": {},
   "outputs": [],
   "source": [
    "import torch\n",
    "\n",
    "# Bone connections\n",
    "BONE_CONNECTIONS = [\n",
    "    (0, 1),\n",
    "    (1, 2),\n",
    "    (2, 3),  # Thumb\n",
    "    (0, 4),\n",
    "    (4, 5),\n",
    "    (5, 6),\n",
    "    (6, 7),  # Index\n",
    "    (0, 8),\n",
    "    (8, 9),\n",
    "    (9, 10),\n",
    "    (10, 11),  # Middle\n",
    "    (0, 12),\n",
    "    (12, 13),\n",
    "    (13, 14),\n",
    "    (14, 15),  # Ring\n",
    "    (0, 16),\n",
    "    (16, 17),\n",
    "    (17, 18),\n",
    "    (18, 19),  # Pinky\n",
    "]\n",
    "\n",
    "# Desired bone lengths (example values)\n",
    "BONE_LENGTHS = {\n",
    "    (0, 1): 7.0,\n",
    "    (1, 2): 3.5,\n",
    "    (2, 3): 2.5,  # Thumb\n",
    "    (0, 4): 9.0,\n",
    "    (4, 5): 4.0,\n",
    "    (5, 6): 2.5,\n",
    "    (6, 7): 2.0,  # Index\n",
    "    (0, 8): 9.0,\n",
    "    (8, 9): 5.0,\n",
    "    (9, 10): 3.0,\n",
    "    (10, 11): 2.0,  # Middle\n",
    "    (0, 12): 8.5,\n",
    "    (12, 13): 5.0,\n",
    "    (13, 14): 3.0,\n",
    "    (14, 15): 2.0,  # Ring\n",
    "    (0, 16): 8.0,\n",
    "    (16, 17): 4.0,\n",
    "    (17, 18): 2.5,\n",
    "    (18, 19): 2.0,  # Pinky\n",
    "}\n",
    "\n",
    "\n",
    "def normalize_hand_landmarks_batched(joints: torch.Tensor) -> torch.Tensor:\n",
    "    \"\"\"\n",
    "    Normalize bone lengths of hand landmarks.\n",
    "    Input: joints - (B, 20, 3)\n",
    "    Output: (B, 20, 3) with normalized bone lengths\n",
    "    \"\"\"\n",
    "    fixed = joints.clone()\n",
    "\n",
    "    for p, c in BONE_CONNECTIONS:\n",
    "        vec = joints[:, c] - joints[:, p]  # (B, 3)\n",
    "        length = torch.norm(vec, dim=-1, keepdim=True)  # (B, 1)\n",
    "        direction = torch.where(\n",
    "            length > 0, vec / length, torch.zeros_like(vec)\n",
    "        )  # (B, 3)\n",
    "        target_length = BONE_LENGTHS[(p, c)]\n",
    "        fixed[:, c] = fixed[:, p] + direction * target_length\n",
    "\n",
    "    return fixed"
   ]
  },
  {
   "cell_type": "code",
   "execution_count": 6,
   "id": "dcac0429",
   "metadata": {},
   "outputs": [],
   "source": [
    "import numpy as np\n",
    "import torch\n",
    "\n",
    "\n",
    "def rotation_matrix_from_vectors(\n",
    "    vec1: torch.Tensor,\n",
    "    vec2: torch.Tensor,\n",
    "    eps: float = 1e-6,\n",
    ") -> torch.Tensor:\n",
    "    a = vec1 / vec1.norm()\n",
    "    b = vec2 / vec2.norm()\n",
    "    v = torch.cross(a, b, dim=-1)\n",
    "    if v.norm() < eps:\n",
    "        return torch.eye(3, dtype=vec1.dtype, device=vec1.device)\n",
    "    c = torch.dot(a, b)\n",
    "    s = v.norm()\n",
    "    K = torch.tensor(\n",
    "        [[0, -v[2], v[1]], [v[2], 0, -v[0]], [-v[1], v[0], 0]],\n",
    "        dtype=vec1.dtype,\n",
    "        device=vec1.device,\n",
    "    )\n",
    "    R = torch.eye(3, dtype=vec1.dtype, device=vec1.device)\n",
    "    return R + K + K @ K * ((1 - c) / (s * s))\n",
    "\n",
    "\n",
    "def normalize_hand(\n",
    "    hand_3d_points: torch.Tensor | np.ndarray,\n",
    "    whrist_base: int = 0,\n",
    "    middle_finger_inner_bone: int = 8,\n",
    "    point_finger_inner_bone: int = 4,\n",
    "    eps: float = 1e-6,\n",
    ") -> torch.Tensor:\n",
    "    \"\"\"\n",
    "    Normalize one hand (L,3) or a batch of hands (B, L, 3):\n",
    "      1. translate so point `whrist_base` is at the origin\n",
    "      2. rotate so `middle_finger_inner_bone` aligns with +Y\n",
    "      3. scale so that vector to `middle_finger_inner_bone` has length 1\n",
    "      4. rotate around Y so `point_finger_inner_bone` lies in the +Z half-plane\n",
    "    Returns same shape as input.\n",
    "    \"\"\"\n",
    "    if not isinstance(hand_3d_points, torch.Tensor):\n",
    "        hand_3d_points = torch.tensor(hand_3d_points, dtype=torch.float32)\n",
    "\n",
    "    # if batch of hands, just loop\n",
    "    if hand_3d_points.dim() == 3:\n",
    "        B, L, _ = hand_3d_points.shape\n",
    "        normalized = torch.empty_like(hand_3d_points)\n",
    "        for b in range(B):\n",
    "            # recursive call on each (L,3)\n",
    "            normalized[b] = normalize_hand(\n",
    "                hand_3d_points[b],\n",
    "                whrist_base,\n",
    "                middle_finger_inner_bone,\n",
    "                point_finger_inner_bone,\n",
    "                eps,\n",
    "            )\n",
    "        return normalized\n",
    "\n",
    "    # --- below is the original single‑hand logic for shape (L,3) ---\n",
    "    device, dtype = hand_3d_points.device, hand_3d_points.dtype\n",
    "\n",
    "    # 1) translate so wrist base → origin\n",
    "    T = -hand_3d_points[whrist_base]\n",
    "    hand = hand_3d_points + T\n",
    "\n",
    "    # 2) rotate so that middle finger inner bone aligns with +Y\n",
    "    target_y = torch.tensor([0, 1, 0], dtype=dtype, device=device)\n",
    "    R1 = rotation_matrix_from_vectors(hand[middle_finger_inner_bone], target_y, eps=eps)\n",
    "    hand = hand @ R1.T\n",
    "\n",
    "    # 3) scale so middle‐finger inner bone length → 1\n",
    "    hand = hand / (hand[middle_finger_inner_bone][1] + eps)\n",
    "\n",
    "    # 4) rotate around Y so the point finger inner bone lies in +Z half-plane\n",
    "    v = hand[point_finger_inner_bone]\n",
    "    xz = torch.stack([v[0], v[2]])\n",
    "    norm_xz = xz.norm()\n",
    "    if norm_xz >= eps:\n",
    "        sinA, cosA = xz[0] / norm_xz, xz[1] / norm_xz\n",
    "        R2 = torch.tensor(\n",
    "            [[cosA, 0.0, -sinA], [0.0, 1.0, 0.0], [sinA, 0.0, cosA]],\n",
    "            dtype=dtype,\n",
    "            device=device,\n",
    "        )\n",
    "        hand = hand @ R2.T\n",
    "\n",
    "    return hand"
   ]
  },
  {
   "cell_type": "code",
   "execution_count": null,
   "id": "6ba2ab90",
   "metadata": {},
   "outputs": [],
   "source": [
    "def rot(\n",
    "    v: torch.Tensor,\n",
    "    p: torch.Tensor,\n",
    "    alpha: torch.Tensor,\n",
    "    beta: torch.Tensor,\n",
    "):\n",
    "    \"\"\"\n",
    "    Batched rotation function.\n",
    "\n",
    "    v, p: (B, 3) tensors representing vector and the first axis of rotation\n",
    "    alpha, beta: (B,) tensors representing angles to use for rotation\n",
    "    \"\"\"\n",
    "    sinA, cosA = torch.sin(alpha).unsqueeze(-1), torch.cos(alpha).unsqueeze(-1)\n",
    "    sinB, cosB = torch.sin(beta).unsqueeze(-1), torch.cos(beta).unsqueeze(-1)\n",
    "\n",
    "    q = torch.cross(v, p, dim=1)\n",
    "\n",
    "    v_hat = q * sinA + v * cosA * cosB + p * sinB\n",
    "    p_hat = p * cosB - v * sinB\n",
    "\n",
    "    return v_hat, p_hat\n",
    "\n",
    "\n",
    "def hand_landmarks_by_angles(\n",
    "    angles: torch.Tensor,\n",
    "    morphology: torch.Tensor,\n",
    "):\n",
    "    \"\"\"\n",
    "    angles: (B, 20)\n",
    "    morphology: (5, 7) - not batched\n",
    "    Returns: (B, 20, 3)\n",
    "    \"\"\"\n",
    "    B = angles.shape[0]\n",
    "    landmarks = torch.zeros(B, 20, 3, dtype=angles.dtype, device=angles.device)\n",
    "\n",
    "    angles = angles.unflatten(dim=-1, sizes=(5, 4))\n",
    "\n",
    "    # Write morphological const points\n",
    "    for i in range(1, 5):\n",
    "        landmarks[:, 4 * i, :] = morphology[i, 3:6]\n",
    "\n",
    "    V = torch.tensor([0, 1, 0], dtype=angles.dtype, device=angles.device).expand(B, 3)\n",
    "    P = torch.tensor([-1, 0, 0], dtype=angles.dtype, device=angles.device).expand(B, 3)\n",
    "\n",
    "    for finger_index, (morph, local_angles) in enumerate(\n",
    "        zip(morphology, angles.transpose(0, 1))\n",
    "    ):\n",
    "        base_idx = finger_index * 4\n",
    "        bone_lengths = morph[0:3]\n",
    "        joint = morph[3:6].expand(B, 3).clone()\n",
    "        gamma = morph[6]\n",
    "\n",
    "        a0, b0, a2, a3 = local_angles.unbind(dim=-1)\n",
    "        chain_angles = torch.stack(\n",
    "            [\n",
    "                torch.stack([a0, b0], dim=-1),\n",
    "                torch.stack([a2, torch.zeros_like(a2)], dim=-1),\n",
    "                torch.stack([a3, torch.zeros_like(a3)], dim=-1),\n",
    "            ],\n",
    "            dim=1,\n",
    "        )  # (B, 3, 2)\n",
    "\n",
    "        v = torch.nn.functional.normalize(joint, dim=-1)\n",
    "\n",
    "        # Get p perpendicular to v\n",
    "        sinB = torch.sum(v * P, dim=-1, keepdim=True)  # (B, 1)\n",
    "        cosB = torch.sqrt(1.0 - sinB**2)  # (B, 1)\n",
    "        p = P * cosB - V * sinB  # (B, 3)\n",
    "\n",
    "        # Rotate p around v according to parameter gamma\n",
    "        sinG, cosG = torch.sin(gamma), torch.cos(gamma)\n",
    "        p = p * cosG + torch.cross(p, v, dim=-1) * sinG\n",
    "\n",
    "        # Iterate over the chain and write the 3d points\n",
    "        for j in range(3):\n",
    "            l = bone_lengths[j]\n",
    "            alpha, beta = chain_angles[:, j, 0], chain_angles[:, j, 1]\n",
    "            v, p = rot(v, p, alpha, beta)\n",
    "            joint = joint + v * l\n",
    "            landmarks[:, base_idx + j + 1, :] = joint\n",
    "\n",
    "    return landmarks"
   ]
  },
  {
   "cell_type": "code",
   "execution_count": null,
   "id": "c4ceda4d",
   "metadata": {},
   "outputs": [
    {
     "name": "stderr",
     "output_type": "stream",
     "text": [
      "100%|██████████| 10000/10000 [10:43<00:00, 15.54it/s]\n"
     ]
    },
    {
     "data": {
      "image/png": "[encoded data removed]",
      "text/plain": [
       "<Figure size 600x400 with 1 Axes>"
      ]
     },
     "metadata": {},
     "output_type": "display_data"
    },
    {
     "name": "stdout",
     "output_type": "stream",
     "text": [
      "Final err: 0.054638590663671494\n"
     ]
    },
    {
     "data": {
      "text/plain": [
       "tensor([[ 9.9683e-02,  4.3274e-01, -2.7174e-01, -2.7274e-01,  5.6357e-01,\n",
       "          5.0476e-01,  1.5054e+00],\n",
       "        [ 4.4523e-01,  2.7505e-01,  2.2064e-01,  3.9478e-04,  9.6546e-01,\n",
       "          2.5684e-01,  1.5295e+00],\n",
       "        [ 5.5375e-01,  3.3005e-01,  2.1830e-01,  1.3095e-03,  1.0003e+00,\n",
       "          5.0660e-03,  1.4283e+00],\n",
       "        [ 5.5374e-01,  3.3614e-01,  2.1485e-01, -4.6977e-02,  9.2178e-01,\n",
       "         -2.0906e-01,  1.4351e+00],\n",
       "        [ 4.4715e-01,  2.9157e-01,  2.1848e-01, -1.2841e-01,  7.9082e-01,\n",
       "         -3.8293e-01,  1.3967e+00]], requires_grad=True)"
      ]
     },
     "execution_count": 13,
     "metadata": {},
     "output_type": "execute_result"
    }
   ],
   "source": [
    "from matplotlib import pyplot as plt\n",
    "from tqdm import tqdm\n",
    "\n",
    "rec = read_hands(\"dataset.rec\")\n",
    "\n",
    "y = normalize_hand(normalize_hand_landmarks_batched(normalize_hand(rec)))\n",
    "\n",
    "B, L = y.shape[0], y.shape[1]\n",
    "\n",
    "morphology = torch.rand(5, 7, device=y.device, requires_grad=True)\n",
    "angles = torch.rand(B, 20, device=y.device, requires_grad=True)\n",
    "\n",
    "optimizer = torch.optim.NAdam([morphology, angles], lr=0.3)\n",
    "scheduler = torch.optim.lr_scheduler.LinearLR(\n",
    "    optimizer,\n",
    "    start_factor=1.0,\n",
    "    end_factor=0.01,\n",
    "    total_iters=10000,\n",
    ")\n",
    "\n",
    "err_history = []\n",
    "lr_history = []\n",
    "\n",
    "for _ in tqdm(range(10000)):\n",
    "    optimizer.zero_grad()\n",
    "    y_hat = hand_landmarks_by_angles(angles, morphology)\n",
    "    loss = ((y_hat - y) ** 2).sum(dim=-1).mean()\n",
    "    loss.backward()\n",
    "    optimizer.step()\n",
    "    scheduler.step()\n",
    "\n",
    "    err_history.append(loss.sqrt().item())\n",
    "    lr_history.append(optimizer.param_groups[0][\"lr\"])\n",
    "\n",
    "# Plot error progression\n",
    "plt.figure(figsize=(6, 4))\n",
    "plt.plot(err_history, label=\"RMSE\")\n",
    "plt.yscale(\"log\")\n",
    "plt.xlabel(\"Iteration\")\n",
    "plt.ylabel(\"RMSE\")\n",
    "plt.title(f\"Error Progression\")\n",
    "plt.legend()\n",
    "plt.tight_layout()\n",
    "plt.show()\n",
    "\n",
    "print(\"Final err:\", err_history[-1])\n",
    "morphology"
   ]
  },
  {
   "cell_type": "code",
   "execution_count": 16,
   "id": "190e034d",
   "metadata": {},
   "outputs": [
    {
     "data": {
      "application/vnd.plotly.v1+json": {
       "config": {
        "plotlyServerURL": "https://plot.ly"
       },
       "data": [
        {
         "marker": {
          "color": "blue",
          "size": 4
         },
         "mode": "markers+text",
         "name": "Landmarks",
         "text": [
          "0",
          "1",
          "2",
          "3",
          "4",
          "5",
          "6",
          "7",
          "8",
          "9",
          "10",
          "11",
          "12",
          "13",
          "14",
          "15",
          "16",
          "17",
          "18",
          "19"
         ],
         "textfont": {
          "color": "black",
          "size": 8
         },
         "textposition": "top center",
         "type": "scatter3d",
         "x": {
          "bdata": "AAAAAEoxp72iEW+8yc+zPQAAAADLR+O+CK+1vuCzFb7l0qujS44Mv6eS1L4E9U++vEIZvYixFb97k/O+6dGOvnBzxb3MrQe/pGsFv3iswr4=",
          "dtype": "f4"
         },
         "y": {
          "bdata": "AAAAAJYADT/S3Wk/RKSSP1v8dz8Un3Q/CeYxP/HJHj/+/38/iz1rP9SUHz8xayA/lwFrP/SsVT95ggk/dJkOP4vLST+/yjU/N6jtPsLn3T4=",
          "dtype": "f4"
         },
         "z": {
          "bdata": "AAAAAFgFCz84iCo//YBHP9Q2fj6UV2w+vJ6IPj8TkT64OhCjoAbLPMRWzz0GfSs+dAdgvsuxML6DdI29GAIEPQ92zL51ea6+Xg1ZvsnjL70=",
          "dtype": "f4"
         }
        },
        {
         "line": {
          "color": "black",
          "width": 2
         },
         "mode": "lines",
         "showlegend": false,
         "type": "scatter3d",
         "x": [
          0,
          -0.08163698017597198
         ],
         "y": [
          0,
          0.5507901906967163
         ],
         "z": [
          0,
          0.5430502891540527
         ]
        },
        {
         "line": {
          "color": "black",
          "width": 2
         },
         "mode": "lines",
         "showlegend": false,
         "type": "scatter3d",
         "x": [
          -0.08163698017597198,
          -0.014591606333851814
         ],
         "y": [
          0.5507901906967163,
          0.9135409593582153
         ],
         "z": [
          0.5430502891540527,
          0.6661410331726074
         ]
        },
        {
         "line": {
          "color": "black",
          "width": 2
         },
         "mode": "lines",
         "showlegend": false,
         "type": "scatter3d",
         "x": [
          -0.014591606333851814,
          0.08779866248369217
         ],
         "y": [
          0.9135409593582153,
          1.1456379890441895
         ],
         "z": [
          0.6661410331726074,
          0.7793119549751282
         ]
        },
        {
         "line": {
          "color": "black",
          "width": 2
         },
         "mode": "lines",
         "showlegend": false,
         "type": "scatter3d",
         "x": [
          0,
          0
         ],
         "y": [
          0,
          0.9686943888664246
         ],
         "z": [
          0,
          0.24825602769851685
         ]
        },
        {
         "line": {
          "color": "black",
          "width": 2
         },
         "mode": "lines",
         "showlegend": false,
         "type": "scatter3d",
         "x": [
          0,
          -0.44390711188316345
         ],
         "y": [
          0.9686943888664246,
          0.955552339553833
         ],
         "z": [
          0.24825602769851685,
          0.23080283403396606
         ]
        },
        {
         "line": {
          "color": "black",
          "width": 2
         },
         "mode": "lines",
         "showlegend": false,
         "type": "scatter3d",
         "x": [
          -0.44390711188316345,
          -0.35485100746154785
         ],
         "y": [
          0.955552339553833,
          0.694916307926178
         ],
         "z": [
          0.23080283403396606,
          0.2668360471725464
         ]
        },
        {
         "line": {
          "color": "black",
          "width": 2
         },
         "mode": "lines",
         "showlegend": false,
         "type": "scatter3d",
         "x": [
          -0.35485100746154785,
          -0.1461939811706543
         ],
         "y": [
          0.694916307926178,
          0.6202688813209534
         ],
         "z": [
          0.2668360471725464,
          0.2833499610424042
         ]
        },
        {
         "line": {
          "color": "black",
          "width": 2
         },
         "mode": "lines",
         "showlegend": false,
         "type": "scatter3d",
         "x": [
          0,
          -1.8629174457684377e-17
         ],
         "y": [
          0,
          0.9999998807907104
         ],
         "z": [
          0,
          -7.818689820863529e-18
         ]
        },
        {
         "line": {
          "color": "black",
          "width": 2
         },
         "mode": "lines",
         "showlegend": false,
         "type": "scatter3d",
         "x": [
          -1.8629174457684377e-17,
          -0.5490462183952332
         ],
         "y": [
          0.9999998807907104,
          0.9189078211784363
         ],
         "z": [
          -7.818689820863529e-18,
          0.024783432483673096
         ]
        },
        {
         "line": {
          "color": "black",
          "width": 2
         },
         "mode": "lines",
         "showlegend": false,
         "type": "scatter3d",
         "x": [
          -0.5490462183952332,
          -0.41518136858940125
         ],
         "y": [
          0.9189078211784363,
          0.6233646869659424
         ],
         "z": [
          0.024783432483673096,
          0.10123971104621887
         ]
        },
        {
         "line": {
          "color": "black",
          "width": 2
         },
         "mode": "lines",
         "showlegend": false,
         "type": "scatter3d",
         "x": [
          -0.41518136858940125,
          -0.2030830979347229
         ],
         "y": [
          0.6233646869659424,
          0.6266356110572815
         ],
         "z": [
          0.10123971104621887,
          0.1674691140651703
         ]
        },
        {
         "line": {
          "color": "black",
          "width": 2
         },
         "mode": "lines",
         "showlegend": false,
         "type": "scatter3d",
         "x": [
          0,
          -0.03741715848445892
         ],
         "y": [
          0,
          0.9179930090904236
         ],
         "z": [
          0,
          -0.21877843141555786
         ]
        },
        {
         "line": {
          "color": "black",
          "width": 2
         },
         "mode": "lines",
         "showlegend": false,
         "type": "scatter3d",
         "x": [
          -0.03741715848445892,
          -0.584740161895752
         ],
         "y": [
          0.9179930090904236,
          0.8346703052520752
         ],
         "z": [
          -0.21877843141555786,
          -0.17255322635173798
         ]
        },
        {
         "line": {
          "color": "black",
          "width": 2
         },
         "mode": "lines",
         "showlegend": false,
         "type": "scatter3d",
         "x": [
          -0.584740161895752,
          -0.47573456168174744
         ],
         "y": [
          0.8346703052520752,
          0.5371471047401428
         ],
         "z": [
          -0.17255322635173798,
          -0.06906988471746445
         ]
        },
        {
         "line": {
          "color": "black",
          "width": 2
         },
         "mode": "lines",
         "showlegend": false,
         "type": "scatter3d",
         "x": [
          -0.47573456168174744,
          -0.2789452373981476
         ],
         "y": [
          0.5371471047401428,
          0.5570290088653564
         ],
         "z": [
          -0.06906988471746445,
          0.032228559255599976
         ]
        },
        {
         "line": {
          "color": "black",
          "width": 2
         },
         "mode": "lines",
         "showlegend": false,
         "type": "scatter3d",
         "x": [
          0,
          -0.09641158580780029
         ],
         "y": [
          0,
          0.7882620692253113
         ],
         "z": [
          0,
          -0.3993382155895233
         ]
        },
        {
         "line": {
          "color": "black",
          "width": 2
         },
         "mode": "lines",
         "showlegend": false,
         "type": "scatter3d",
         "x": [
          -0.09641158580780029,
          -0.5299956798553467
         ],
         "y": [
          0.7882620692253113,
          0.7101249098777771
         ],
         "z": [
          -0.3993382155895233,
          -0.3407703936100006
         ]
        },
        {
         "line": {
          "color": "black",
          "width": 2
         },
         "mode": "lines",
         "showlegend": false,
         "type": "scatter3d",
         "x": [
          -0.5299956798553467,
          -0.5211737155914307
         ],
         "y": [
          0.7101249098777771,
          0.4641740024089813
         ],
         "z": [
          -0.3407703936100006,
          -0.21196505427360535
         ]
        },
        {
         "line": {
          "color": "black",
          "width": 2
         },
         "mode": "lines",
         "showlegend": false,
         "type": "scatter3d",
         "x": [
          -0.5211737155914307,
          -0.3802220821380615
         ],
         "y": [
          0.4641740024089813,
          0.43340879678726196
         ],
         "z": [
          -0.21196505427360535,
          -0.04294184222817421
         ]
        },
        {
         "line": {
          "color": "black",
          "width": 2
         },
         "mode": "lines",
         "showlegend": false,
         "type": "scatter3d",
         "x": [
          -0.08163698017597198,
          0
         ],
         "y": [
          0.5507901906967163,
          0.9686943888664246
         ],
         "z": [
          0.5430502891540527,
          0.24825602769851685
         ]
        },
        {
         "line": {
          "color": "black",
          "width": 2
         },
         "mode": "lines",
         "showlegend": false,
         "type": "scatter3d",
         "x": [
          0,
          -1.8629174457684377e-17
         ],
         "y": [
          0.9686943888664246,
          0.9999998807907104
         ],
         "z": [
          0.24825602769851685,
          -7.818689820863529e-18
         ]
        },
        {
         "line": {
          "color": "black",
          "width": 2
         },
         "mode": "lines",
         "showlegend": false,
         "type": "scatter3d",
         "x": [
          -1.8629174457684377e-17,
          -0.03741715848445892
         ],
         "y": [
          0.9999998807907104,
          0.9179930090904236
         ],
         "z": [
          -7.818689820863529e-18,
          -0.21877843141555786
         ]
        },
        {
         "line": {
          "color": "black",
          "width": 2
         },
         "mode": "lines",
         "showlegend": false,
         "type": "scatter3d",
         "x": [
          -0.03741715848445892,
          -0.09641158580780029
         ],
         "y": [
          0.9179930090904236,
          0.7882620692253113
         ],
         "z": [
          -0.21877843141555786,
          -0.3993382155895233
         ]
        }
       ],
       "layout": {
        "margin": {
         "b": 0,
         "l": 0,
         "r": 0,
         "t": 30
        },
        "scene": {
         "xaxis": {
          "autorange": "reversed",
          "title": {
           "text": "X"
          }
         },
         "yaxis": {
          "title": {
           "text": "Y"
          }
         },
         "zaxis": {
          "title": {
           "text": "Z"
          }
         }
        },
        "template": {
         "data": {
          "bar": [
           {
            "error_x": {
             "color": "#2a3f5f"
            },
            "error_y": {
             "color": "#2a3f5f"
            },
            "marker": {
             "line": {
              "color": "#E5ECF6",
              "width": 0.5
             },
             "pattern": {
              "fillmode": "overlay",
              "size": 10,
              "solidity": 0.2
             }
            },
            "type": "bar"
           }
          ],
          "barpolar": [
           {
            "marker": {
             "line": {
              "color": "#E5ECF6",
              "width": 0.5
             },
             "pattern": {
              "fillmode": "overlay",
              "size": 10,
              "solidity": 0.2
             }
            },
            "type": "barpolar"
           }
          ],
          "carpet": [
           {
            "aaxis": {
             "endlinecolor": "#2a3f5f",
             "gridcolor": "white",
             "linecolor": "white",
             "minorgridcolor": "white",
             "startlinecolor": "#2a3f5f"
            },
            "baxis": {
             "endlinecolor": "#2a3f5f",
             "gridcolor": "white",
             "linecolor": "white",
             "minorgridcolor": "white",
             "startlinecolor": "#2a3f5f"
            },
            "type": "carpet"
           }
          ],
          "choropleth": [
           {
            "colorbar": {
             "outlinewidth": 0,
             "ticks": ""
            },
            "type": "choropleth"
           }
          ],
          "contour": [
           {
            "colorbar": {
             "outlinewidth": 0,
             "ticks": ""
            },
            "colorscale": [
             [
              0,
              "#0d0887"
             ],
             [
              0.1111111111111111,
              "#46039f"
             ],
             [
              0.2222222222222222,
              "#7201a8"
             ],
             [
              0.3333333333333333,
              "#9c179e"
             ],
             [
              0.4444444444444444,
              "#bd3786"
             ],
             [
              0.5555555555555556,
              "#d8576b"
             ],
             [
              0.6666666666666666,
              "#ed7953"
             ],
             [
              0.7777777777777778,
              "#fb9f3a"
             ],
             [
              0.8888888888888888,
              "#fdca26"
             ],
             [
              1,
              "#f0f921"
             ]
            ],
            "type": "contour"
           }
          ],
          "contourcarpet": [
           {
            "colorbar": {
             "outlinewidth": 0,
             "ticks": ""
            },
            "type": "contourcarpet"
           }
          ],
          "heatmap": [
           {
            "colorbar": {
             "outlinewidth": 0,
             "ticks": ""
            },
            "colorscale": [
             [
              0,
              "#0d0887"
             ],
             [
              0.1111111111111111,
              "#46039f"
             ],
             [
              0.2222222222222222,
              "#7201a8"
             ],
             [
              0.3333333333333333,
              "#9c179e"
             ],
             [
              0.4444444444444444,
              "#bd3786"
             ],
             [
              0.5555555555555556,
              "#d8576b"
             ],
             [
              0.6666666666666666,
              "#ed7953"
             ],
             [
              0.7777777777777778,
              "#fb9f3a"
             ],
             [
              0.8888888888888888,
              "#fdca26"
             ],
             [
              1,
              "#f0f921"
             ]
            ],
            "type": "heatmap"
           }
          ],
          "histogram": [
           {
            "marker": {
             "pattern": {
              "fillmode": "overlay",
              "size": 10,
              "solidity": 0.2
             }
            },
            "type": "histogram"
           }
          ],
          "histogram2d": [
           {
            "colorbar": {
             "outlinewidth": 0,
             "ticks": ""
            },
            "colorscale": [
             [
              0,
              "#0d0887"
             ],
             [
              0.1111111111111111,
              "#46039f"
             ],
             [
              0.2222222222222222,
              "#7201a8"
             ],
             [
              0.3333333333333333,
              "#9c179e"
             ],
             [
              0.4444444444444444,
              "#bd3786"
             ],
             [
              0.5555555555555556,
              "#d8576b"
             ],
             [
              0.6666666666666666,
              "#ed7953"
             ],
             [
              0.7777777777777778,
              "#fb9f3a"
             ],
             [
              0.8888888888888888,
              "#fdca26"
             ],
             [
              1,
              "#f0f921"
             ]
            ],
            "type": "histogram2d"
           }
          ],
          "histogram2dcontour": [
           {
            "colorbar": {
             "outlinewidth": 0,
             "ticks": ""
            },
            "colorscale": [
             [
              0,
              "#0d0887"
             ],
             [
              0.1111111111111111,
              "#46039f"
             ],
             [
              0.2222222222222222,
              "#7201a8"
             ],
             [
              0.3333333333333333,
              "#9c179e"
             ],
             [
              0.4444444444444444,
              "#bd3786"
             ],
             [
              0.5555555555555556,
              "#d8576b"
             ],
             [
              0.6666666666666666,
              "#ed7953"
             ],
             [
              0.7777777777777778,
              "#fb9f3a"
             ],
             [
              0.8888888888888888,
              "#fdca26"
             ],
             [
              1,
              "#f0f921"
             ]
            ],
            "type": "histogram2dcontour"
           }
          ],
          "mesh3d": [
           {
            "colorbar": {
             "outlinewidth": 0,
             "ticks": ""
            },
            "type": "mesh3d"
           }
          ],
          "parcoords": [
           {
            "line": {
             "colorbar": {
              "outlinewidth": 0,
              "ticks": ""
             }
            },
            "type": "parcoords"
           }
          ],
          "pie": [
           {
            "automargin": true,
            "type": "pie"
           }
          ],
          "scatter": [
           {
            "fillpattern": {
             "fillmode": "overlay",
             "size": 10,
             "solidity": 0.2
            },
            "type": "scatter"
           }
          ],
          "scatter3d": [
           {
            "line": {
             "colorbar": {
              "outlinewidth": 0,
              "ticks": ""
             }
            },
            "marker": {
             "colorbar": {
              "outlinewidth": 0,
              "ticks": ""
             }
            },
            "type": "scatter3d"
           }
          ],
          "scattercarpet": [
           {
            "marker": {
             "colorbar": {
              "outlinewidth": 0,
              "ticks": ""
             }
            },
            "type": "scattercarpet"
           }
          ],
          "scattergeo": [
           {
            "marker": {
             "colorbar": {
              "outlinewidth": 0,
              "ticks": ""
             }
            },
            "type": "scattergeo"
           }
          ],
          "scattergl": [
           {
            "marker": {
             "colorbar": {
              "outlinewidth": 0,
              "ticks": ""
             }
            },
            "type": "scattergl"
           }
          ],
          "scattermap": [
           {
            "marker": {
             "colorbar": {
              "outlinewidth": 0,
              "ticks": ""
             }
            },
            "type": "scattermap"
           }
          ],
          "scattermapbox": [
           {
            "marker": {
             "colorbar": {
              "outlinewidth": 0,
              "ticks": ""
             }
            },
            "type": "scattermapbox"
           }
          ],
          "scatterpolar": [
           {
            "marker": {
             "colorbar": {
              "outlinewidth": 0,
              "ticks": ""
             }
            },
            "type": "scatterpolar"
           }
          ],
          "scatterpolargl": [
           {
            "marker": {
             "colorbar": {
              "outlinewidth": 0,
              "ticks": ""
             }
            },
            "type": "scatterpolargl"
           }
          ],
          "scatterternary": [
           {
            "marker": {
             "colorbar": {
              "outlinewidth": 0,
              "ticks": ""
             }
            },
            "type": "scatterternary"
           }
          ],
          "surface": [
           {
            "colorbar": {
             "outlinewidth": 0,
             "ticks": ""
            },
            "colorscale": [
             [
              0,
              "#0d0887"
             ],
             [
              0.1111111111111111,
              "#46039f"
             ],
             [
              0.2222222222222222,
              "#7201a8"
             ],
             [
              0.3333333333333333,
              "#9c179e"
             ],
             [
              0.4444444444444444,
              "#bd3786"
             ],
             [
              0.5555555555555556,
              "#d8576b"
             ],
             [
              0.6666666666666666,
              "#ed7953"
             ],
             [
              0.7777777777777778,
              "#fb9f3a"
             ],
             [
              0.8888888888888888,
              "#fdca26"
             ],
             [
              1,
              "#f0f921"
             ]
            ],
            "type": "surface"
           }
          ],
          "table": [
           {
            "cells": {
             "fill": {
              "color": "#EBF0F8"
             },
             "line": {
              "color": "white"
             }
            },
            "header": {
             "fill": {
              "color": "#C8D4E3"
             },
             "line": {
              "color": "white"
             }
            },
            "type": "table"
           }
          ]
         },
         "layout": {
          "annotationdefaults": {
           "arrowcolor": "#2a3f5f",
           "arrowhead": 0,
           "arrowwidth": 1
          },
          "autotypenumbers": "strict",
          "coloraxis": {
           "colorbar": {
            "outlinewidth": 0,
            "ticks": ""
           }
          },
          "colorscale": {
           "diverging": [
            [
             0,
             "#8e0152"
            ],
            [
             0.1,
             "#c51b7d"
            ],
            [
             0.2,
             "#de77ae"
            ],
            [
             0.3,
             "#f1b6da"
            ],
            [
             0.4,
             "#fde0ef"
            ],
            [
             0.5,
             "#f7f7f7"
            ],
            [
             0.6,
             "#e6f5d0"
            ],
            [
             0.7,
             "#b8e186"
            ],
            [
             0.8,
             "#7fbc41"
            ],
            [
             0.9,
             "#4d9221"
            ],
            [
             1,
             "#276419"
            ]
           ],
           "sequential": [
            [
             0,
             "#0d0887"
            ],
            [
             0.1111111111111111,
             "#46039f"
            ],
            [
             0.2222222222222222,
             "#7201a8"
            ],
            [
             0.3333333333333333,
             "#9c179e"
            ],
            [
             0.4444444444444444,
             "#bd3786"
            ],
            [
             0.5555555555555556,
             "#d8576b"
            ],
            [
             0.6666666666666666,
             "#ed7953"
            ],
            [
             0.7777777777777778,
             "#fb9f3a"
            ],
            [
             0.8888888888888888,
             "#fdca26"
            ],
            [
             1,
             "#f0f921"
            ]
           ],
           "sequentialminus": [
            [
             0,
             "#0d0887"
            ],
            [
             0.1111111111111111,
             "#46039f"
            ],
            [
             0.2222222222222222,
             "#7201a8"
            ],
            [
             0.3333333333333333,
             "#9c179e"
            ],
            [
             0.4444444444444444,
             "#bd3786"
            ],
            [
             0.5555555555555556,
             "#d8576b"
            ],
            [
             0.6666666666666666,
             "#ed7953"
            ],
            [
             0.7777777777777778,
             "#fb9f3a"
            ],
            [
             0.8888888888888888,
             "#fdca26"
            ],
            [
             1,
             "#f0f921"
            ]
           ]
          },
          "colorway": [
           "#636efa",
           "#EF553B",
           "#00cc96",
           "#ab63fa",
           "#FFA15A",
           "#19d3f3",
           "#FF6692",
           "#B6E880",
           "#FF97FF",
           "#FECB52"
          ],
          "font": {
           "color": "#2a3f5f"
          },
          "geo": {
           "bgcolor": "white",
           "lakecolor": "white",
           "landcolor": "#E5ECF6",
           "showlakes": true,
           "showland": true,
           "subunitcolor": "white"
          },
          "hoverlabel": {
           "align": "left"
          },
          "hovermode": "closest",
          "mapbox": {
           "style": "light"
          },
          "paper_bgcolor": "white",
          "plot_bgcolor": "#E5ECF6",
          "polar": {
           "angularaxis": {
            "gridcolor": "white",
            "linecolor": "white",
            "ticks": ""
           },
           "bgcolor": "#E5ECF6",
           "radialaxis": {
            "gridcolor": "white",
            "linecolor": "white",
            "ticks": ""
           }
          },
          "scene": {
           "xaxis": {
            "backgroundcolor": "#E5ECF6",
            "gridcolor": "white",
            "gridwidth": 2,
            "linecolor": "white",
            "showbackground": true,
            "ticks": "",
            "zerolinecolor": "white"
           },
           "yaxis": {
            "backgroundcolor": "#E5ECF6",
            "gridcolor": "white",
            "gridwidth": 2,
            "linecolor": "white",
            "showbackground": true,
            "ticks": "",
            "zerolinecolor": "white"
           },
           "zaxis": {
            "backgroundcolor": "#E5ECF6",
            "gridcolor": "white",
            "gridwidth": 2,
            "linecolor": "white",
            "showbackground": true,
            "ticks": "",
            "zerolinecolor": "white"
           }
          },
          "shapedefaults": {
           "line": {
            "color": "#2a3f5f"
           }
          },
          "ternary": {
           "aaxis": {
            "gridcolor": "white",
            "linecolor": "white",
            "ticks": ""
           },
           "baxis": {
            "gridcolor": "white",
            "linecolor": "white",
            "ticks": ""
           },
           "bgcolor": "#E5ECF6",
           "caxis": {
            "gridcolor": "white",
            "linecolor": "white",
            "ticks": ""
           }
          },
          "title": {
           "x": 0.05
          },
          "xaxis": {
           "automargin": true,
           "gridcolor": "white",
           "linecolor": "white",
           "ticks": "",
           "title": {
            "standoff": 15
           },
           "zerolinecolor": "white",
           "zerolinewidth": 2
          },
          "yaxis": {
           "automargin": true,
           "gridcolor": "white",
           "linecolor": "white",
           "ticks": "",
           "title": {
            "standoff": 15
           },
           "zerolinecolor": "white",
           "zerolinewidth": 2
          }
         }
        },
        "title": {
         "text": "3D Hand Pose with Point Labels"
        }
       }
      }
     },
     "metadata": {},
     "output_type": "display_data"
    },
    {
     "data": {
      "application/vnd.plotly.v1+json": {
       "config": {
        "plotlyServerURL": "https://plot.ly"
       },
       "data": [
        {
         "marker": {
          "color": "blue",
          "size": 4
         },
         "mode": "markers+text",
         "name": "Landmarks",
         "text": [
          "0",
          "1",
          "2",
          "3",
          "4",
          "5",
          "6",
          "7",
          "8",
          "9",
          "10",
          "11",
          "12",
          "13",
          "14",
          "15",
          "16",
          "17",
          "18",
          "19"
         ],
         "textfont": {
          "color": "black",
          "size": 8
         },
         "textposition": "top center",
         "type": "scatter3d",
         "x": {
          "bdata": "AAAAAJitNb6AxSK8InO+PQH6zjn7h+S+7nuvvnPoEb6Aoqs60DcLv+xe2r65d1e+w2pAvRalF78K6/m+5dyMviJ9A74mbxC/S3YKv4qXub4=",
          "dtype": "f4"
         },
         "y": {
          "bdata": "AAAAAKHeEz9t8Gw/eH6SPzYodz/OU3k/MJc4PxIuIT+zCYA/4qZtPwa6Hj9ixh8/BvprPzR1WT/w3Ak/goMFP31zSj8XCkA/TD79PoPBwD4=",
          "dtype": "f4"
         },
         "z": {
          "bdata": "AAAAAPrp9T7miSs/c1RKPzmAgz4W/Gs+XAVKPthVOT4ZAaY7kI6SPZSpej3nEfo89BJWviF7Er6FL469kWK7vZ8PxL7Ck5S+j4cbvug/3b0=",
          "dtype": "f4"
         }
        },
        {
         "line": {
          "color": "black",
          "width": 2
         },
         "mode": "lines",
         "showlegend": false,
         "type": "scatter3d",
         "x": [
          0,
          -0.1774200201034546
         ],
         "y": [
          0,
          0.5776157975196838
         ],
         "z": [
          0,
          0.4803007245063782
         ]
        },
        {
         "line": {
          "color": "black",
          "width": 2
         },
         "mode": "lines",
         "showlegend": false,
         "type": "scatter3d",
         "x": [
          -0.1774200201034546,
          -0.009934782981872559
         ],
         "y": [
          0.5776157975196838,
          0.9255436062812805
         ],
         "z": [
          0.4803007245063782,
          0.6700729131698608
         ]
        },
        {
         "line": {
          "color": "black",
          "width": 2
         },
         "mode": "lines",
         "showlegend": false,
         "type": "scatter3d",
         "x": [
          -0.009934782981872559,
          0.09299303591251373
         ],
         "y": [
          0.9255436062812805,
          1.144484519958496
         ],
         "z": [
          0.6700729131698608,
          0.7903510928153992
         ]
        },
        {
         "line": {
          "color": "black",
          "width": 2
         },
         "mode": "lines",
         "showlegend": false,
         "type": "scatter3d",
         "x": [
          0,
          0.0003947764926124364
         ],
         "y": [
          0,
          0.9654573202133179
         ],
         "z": [
          0,
          0.2568376362323761
         ]
        },
        {
         "line": {
          "color": "black",
          "width": 2
         },
         "mode": "lines",
         "showlegend": false,
         "type": "scatter3d",
         "x": [
          0.0003947764926124364,
          -0.44634994864463806
         ],
         "y": [
          0.9654573202133179,
          0.9739350080490112
         ],
         "z": [
          0.2568376362323761,
          0.23045381903648376
         ]
        },
        {
         "line": {
          "color": "black",
          "width": 2
         },
         "mode": "lines",
         "showlegend": false,
         "type": "scatter3d",
         "x": [
          -0.44634994864463806,
          -0.342742383480072
         ],
         "y": [
          0.9739350080490112,
          0.7210569381713867
         ],
         "z": [
          0.23045381903648376,
          0.19728606939315796
         ]
        },
        {
         "line": {
          "color": "black",
          "width": 2
         },
         "mode": "lines",
         "showlegend": false,
         "type": "scatter3d",
         "x": [
          -0.342742383480072,
          -0.1424882858991623
         ],
         "y": [
          0.7210569381713867,
          0.629609227180481
         ],
         "z": [
          0.19728606939315796,
          0.180991530418396
         ]
        },
        {
         "line": {
          "color": "black",
          "width": 2
         },
         "mode": "lines",
         "showlegend": false,
         "type": "scatter3d",
         "x": [
          0,
          0.0013094693422317505
         ],
         "y": [
          0,
          1.0002959966659546
         ],
         "z": [
          0,
          0.0050660488195717335
         ]
        },
        {
         "line": {
          "color": "black",
          "width": 2
         },
         "mode": "lines",
         "showlegend": false,
         "type": "scatter3d",
         "x": [
          0.0013094693422317505,
          -0.5438203811645508
         ],
         "y": [
          1.0002959966659546,
          0.9283276796340942
         ],
         "z": [
          0.0050660488195717335,
          0.07156097888946533
         ]
        },
        {
         "line": {
          "color": "black",
          "width": 2
         },
         "mode": "lines",
         "showlegend": false,
         "type": "scatter3d",
         "x": [
          -0.5438203811645508,
          -0.426505446434021
         ],
         "y": [
          0.9283276796340942,
          0.6200259923934937
         ],
         "z": [
          0.07156097888946533,
          0.06119687855243683
         ]
        },
        {
         "line": {
          "color": "black",
          "width": 2
         },
         "mode": "lines",
         "showlegend": false,
         "type": "scatter3d",
         "x": [
          -0.426505446434021,
          -0.21041764318943024
         ],
         "y": [
          0.6200259923934937,
          0.624120831489563
         ],
         "z": [
          0.06119687855243683,
          0.030526114627718925
         ]
        },
        {
         "line": {
          "color": "black",
          "width": 2
         },
         "mode": "lines",
         "showlegend": false,
         "type": "scatter3d",
         "x": [
          0,
          -0.04697681590914726
         ],
         "y": [
          0,
          0.9217838048934937
         ],
         "z": [
          0,
          -0.20905667543411255
         ]
        },
        {
         "line": {
          "color": "black",
          "width": 2
         },
         "mode": "lines",
         "showlegend": false,
         "type": "scatter3d",
         "x": [
          -0.04697681590914726,
          -0.5923627614974976
         ],
         "y": [
          0.9217838048934937,
          0.8494446277618408
         ],
         "z": [
          -0.20905667543411255,
          -0.14304782450199127
         ]
        },
        {
         "line": {
          "color": "black",
          "width": 2
         },
         "mode": "lines",
         "showlegend": false,
         "type": "scatter3d",
         "x": [
          -0.5923627614974976,
          -0.4881213307380676
         ],
         "y": [
          0.8494446277618408,
          0.5385274887084961
         ],
         "z": [
          -0.14304782450199127,
          -0.06942657381296158
         ]
        },
        {
         "line": {
          "color": "black",
          "width": 2
         },
         "mode": "lines",
         "showlegend": false,
         "type": "scatter3d",
         "x": [
          -0.4881213307380676,
          -0.2751227915287018
         ],
         "y": [
          0.5385274887084961,
          0.5215378999710083
         ],
         "z": [
          -0.06942657381296158,
          -0.09149659425020218
         ]
        },
        {
         "line": {
          "color": "black",
          "width": 2
         },
         "mode": "lines",
         "showlegend": false,
         "type": "scatter3d",
         "x": [
          0,
          -0.12840703129768372
         ],
         "y": [
          0,
          0.7908247113227844
         ],
         "z": [
          0,
          -0.3829316794872284
         ]
        },
        {
         "line": {
          "color": "black",
          "width": 2
         },
         "mode": "lines",
         "showlegend": false,
         "type": "scatter3d",
         "x": [
          -0.12840703129768372,
          -0.564195990562439
         ],
         "y": [
          0.7908247113227844,
          0.7501539587974548
         ],
         "z": [
          -0.3829316794872284,
          -0.29018980264663696
         ]
        },
        {
         "line": {
          "color": "black",
          "width": 2
         },
         "mode": "lines",
         "showlegend": false,
         "type": "scatter3d",
         "x": [
          -0.564195990562439,
          -0.5408675074577332
         ],
         "y": [
          0.7501539587974548,
          0.49461591243743896
         ],
         "z": [
          -0.29018980264663696,
          -0.1518843024969101
         ]
        },
        {
         "line": {
          "color": "black",
          "width": 2
         },
         "mode": "lines",
         "showlegend": false,
         "type": "scatter3d",
         "x": [
          -0.5408675074577332,
          -0.36248427629470825
         ],
         "y": [
          0.49461591243743896,
          0.37647637724876404
         ],
         "z": [
          -0.1518843024969101,
          -0.10803204774856567
         ]
        },
        {
         "line": {
          "color": "black",
          "width": 2
         },
         "mode": "lines",
         "showlegend": false,
         "type": "scatter3d",
         "x": [
          -0.1774200201034546,
          0.0003947764926124364
         ],
         "y": [
          0.5776157975196838,
          0.9654573202133179
         ],
         "z": [
          0.4803007245063782,
          0.2568376362323761
         ]
        },
        {
         "line": {
          "color": "black",
          "width": 2
         },
         "mode": "lines",
         "showlegend": false,
         "type": "scatter3d",
         "x": [
          0.0003947764926124364,
          0.0013094693422317505
         ],
         "y": [
          0.9654573202133179,
          1.0002959966659546
         ],
         "z": [
          0.2568376362323761,
          0.0050660488195717335
         ]
        },
        {
         "line": {
          "color": "black",
          "width": 2
         },
         "mode": "lines",
         "showlegend": false,
         "type": "scatter3d",
         "x": [
          0.0013094693422317505,
          -0.04697681590914726
         ],
         "y": [
          1.0002959966659546,
          0.9217838048934937
         ],
         "z": [
          0.0050660488195717335,
          -0.20905667543411255
         ]
        },
        {
         "line": {
          "color": "black",
          "width": 2
         },
         "mode": "lines",
         "showlegend": false,
         "type": "scatter3d",
         "x": [
          -0.04697681590914726,
          -0.12840703129768372
         ],
         "y": [
          0.9217838048934937,
          0.7908247113227844
         ],
         "z": [
          -0.20905667543411255,
          -0.3829316794872284
         ]
        }
       ],
       "layout": {
        "margin": {
         "b": 0,
         "l": 0,
         "r": 0,
         "t": 30
        },
        "scene": {
         "xaxis": {
          "autorange": "reversed",
          "title": {
           "text": "X"
          }
         },
         "yaxis": {
          "title": {
           "text": "Y"
          }
         },
         "zaxis": {
          "title": {
           "text": "Z"
          }
         }
        },
        "template": {
         "data": {
          "bar": [
           {
            "error_x": {
             "color": "#2a3f5f"
            },
            "error_y": {
             "color": "#2a3f5f"
            },
            "marker": {
             "line": {
              "color": "#E5ECF6",
              "width": 0.5
             },
             "pattern": {
              "fillmode": "overlay",
              "size": 10,
              "solidity": 0.2
             }
            },
            "type": "bar"
           }
          ],
          "barpolar": [
           {
            "marker": {
             "line": {
              "color": "#E5ECF6",
              "width": 0.5
             },
             "pattern": {
              "fillmode": "overlay",
              "size": 10,
              "solidity": 0.2
             }
            },
            "type": "barpolar"
           }
          ],
          "carpet": [
           {
            "aaxis": {
             "endlinecolor": "#2a3f5f",
             "gridcolor": "white",
             "linecolor": "white",
             "minorgridcolor": "white",
             "startlinecolor": "#2a3f5f"
            },
            "baxis": {
             "endlinecolor": "#2a3f5f",
             "gridcolor": "white",
             "linecolor": "white",
             "minorgridcolor": "white",
             "startlinecolor": "#2a3f5f"
            },
            "type": "carpet"
           }
          ],
          "choropleth": [
           {
            "colorbar": {
             "outlinewidth": 0,
             "ticks": ""
            },
            "type": "choropleth"
           }
          ],
          "contour": [
           {
            "colorbar": {
             "outlinewidth": 0,
             "ticks": ""
            },
            "colorscale": [
             [
              0,
              "#0d0887"
             ],
             [
              0.1111111111111111,
              "#46039f"
             ],
             [
              0.2222222222222222,
              "#7201a8"
             ],
             [
              0.3333333333333333,
              "#9c179e"
             ],
             [
              0.4444444444444444,
              "#bd3786"
             ],
             [
              0.5555555555555556,
              "#d8576b"
             ],
             [
              0.6666666666666666,
              "#ed7953"
             ],
             [
              0.7777777777777778,
              "#fb9f3a"
             ],
             [
              0.8888888888888888,
              "#fdca26"
             ],
             [
              1,
              "#f0f921"
             ]
            ],
            "type": "contour"
           }
          ],
          "contourcarpet": [
           {
            "colorbar": {
             "outlinewidth": 0,
             "ticks": ""
            },
            "type": "contourcarpet"
           }
          ],
          "heatmap": [
           {
            "colorbar": {
             "outlinewidth": 0,
             "ticks": ""
            },
            "colorscale": [
             [
              0,
              "#0d0887"
             ],
             [
              0.1111111111111111,
              "#46039f"
             ],
             [
              0.2222222222222222,
              "#7201a8"
             ],
             [
              0.3333333333333333,
              "#9c179e"
             ],
             [
              0.4444444444444444,
              "#bd3786"
             ],
             [
              0.5555555555555556,
              "#d8576b"
             ],
             [
              0.6666666666666666,
              "#ed7953"
             ],
             [
              0.7777777777777778,
              "#fb9f3a"
             ],
             [
              0.8888888888888888,
              "#fdca26"
             ],
             [
              1,
              "#f0f921"
             ]
            ],
            "type": "heatmap"
           }
          ],
          "histogram": [
           {
            "marker": {
             "pattern": {
              "fillmode": "overlay",
              "size": 10,
              "solidity": 0.2
             }
            },
            "type": "histogram"
           }
          ],
          "histogram2d": [
           {
            "colorbar": {
             "outlinewidth": 0,
             "ticks": ""
            },
            "colorscale": [
             [
              0,
              "#0d0887"
             ],
             [
              0.1111111111111111,
              "#46039f"
             ],
             [
              0.2222222222222222,
              "#7201a8"
             ],
             [
              0.3333333333333333,
              "#9c179e"
             ],
             [
              0.4444444444444444,
              "#bd3786"
             ],
             [
              0.5555555555555556,
              "#d8576b"
             ],
             [
              0.6666666666666666,
              "#ed7953"
             ],
             [
              0.7777777777777778,
              "#fb9f3a"
             ],
             [
              0.8888888888888888,
              "#fdca26"
             ],
             [
              1,
              "#f0f921"
             ]
            ],
            "type": "histogram2d"
           }
          ],
          "histogram2dcontour": [
           {
            "colorbar": {
             "outlinewidth": 0,
             "ticks": ""
            },
            "colorscale": [
             [
              0,
              "#0d0887"
             ],
             [
              0.1111111111111111,
              "#46039f"
             ],
             [
              0.2222222222222222,
              "#7201a8"
             ],
             [
              0.3333333333333333,
              "#9c179e"
             ],
             [
              0.4444444444444444,
              "#bd3786"
             ],
             [
              0.5555555555555556,
              "#d8576b"
             ],
             [
              0.6666666666666666,
              "#ed7953"
             ],
             [
              0.7777777777777778,
              "#fb9f3a"
             ],
             [
              0.8888888888888888,
              "#fdca26"
             ],
             [
              1,
              "#f0f921"
             ]
            ],
            "type": "histogram2dcontour"
           }
          ],
          "mesh3d": [
           {
            "colorbar": {
             "outlinewidth": 0,
             "ticks": ""
            },
            "type": "mesh3d"
           }
          ],
          "parcoords": [
           {
            "line": {
             "colorbar": {
              "outlinewidth": 0,
              "ticks": ""
             }
            },
            "type": "parcoords"
           }
          ],
          "pie": [
           {
            "automargin": true,
            "type": "pie"
           }
          ],
          "scatter": [
           {
            "fillpattern": {
             "fillmode": "overlay",
             "size": 10,
             "solidity": 0.2
            },
            "type": "scatter"
           }
          ],
          "scatter3d": [
           {
            "line": {
             "colorbar": {
              "outlinewidth": 0,
              "ticks": ""
             }
            },
            "marker": {
             "colorbar": {
              "outlinewidth": 0,
              "ticks": ""
             }
            },
            "type": "scatter3d"
           }
          ],
          "scattercarpet": [
           {
            "marker": {
             "colorbar": {
              "outlinewidth": 0,
              "ticks": ""
             }
            },
            "type": "scattercarpet"
           }
          ],
          "scattergeo": [
           {
            "marker": {
             "colorbar": {
              "outlinewidth": 0,
              "ticks": ""
             }
            },
            "type": "scattergeo"
           }
          ],
          "scattergl": [
           {
            "marker": {
             "colorbar": {
              "outlinewidth": 0,
              "ticks": ""
             }
            },
            "type": "scattergl"
           }
          ],
          "scattermap": [
           {
            "marker": {
             "colorbar": {
              "outlinewidth": 0,
              "ticks": ""
             }
            },
            "type": "scattermap"
           }
          ],
          "scattermapbox": [
           {
            "marker": {
             "colorbar": {
              "outlinewidth": 0,
              "ticks": ""
             }
            },
            "type": "scattermapbox"
           }
          ],
          "scatterpolar": [
           {
            "marker": {
             "colorbar": {
              "outlinewidth": 0,
              "ticks": ""
             }
            },
            "type": "scatterpolar"
           }
          ],
          "scatterpolargl": [
           {
            "marker": {
             "colorbar": {
              "outlinewidth": 0,
              "ticks": ""
             }
            },
            "type": "scatterpolargl"
           }
          ],
          "scatterternary": [
           {
            "marker": {
             "colorbar": {
              "outlinewidth": 0,
              "ticks": ""
             }
            },
            "type": "scatterternary"
           }
          ],
          "surface": [
           {
            "colorbar": {
             "outlinewidth": 0,
             "ticks": ""
            },
            "colorscale": [
             [
              0,
              "#0d0887"
             ],
             [
              0.1111111111111111,
              "#46039f"
             ],
             [
              0.2222222222222222,
              "#7201a8"
             ],
             [
              0.3333333333333333,
              "#9c179e"
             ],
             [
              0.4444444444444444,
              "#bd3786"
             ],
             [
              0.5555555555555556,
              "#d8576b"
             ],
             [
              0.6666666666666666,
              "#ed7953"
             ],
             [
              0.7777777777777778,
              "#fb9f3a"
             ],
             [
              0.8888888888888888,
              "#fdca26"
             ],
             [
              1,
              "#f0f921"
             ]
            ],
            "type": "surface"
           }
          ],
          "table": [
           {
            "cells": {
             "fill": {
              "color": "#EBF0F8"
             },
             "line": {
              "color": "white"
             }
            },
            "header": {
             "fill": {
              "color": "#C8D4E3"
             },
             "line": {
              "color": "white"
             }
            },
            "type": "table"
           }
          ]
         },
         "layout": {
          "annotationdefaults": {
           "arrowcolor": "#2a3f5f",
           "arrowhead": 0,
           "arrowwidth": 1
          },
          "autotypenumbers": "strict",
          "coloraxis": {
           "colorbar": {
            "outlinewidth": 0,
            "ticks": ""
           }
          },
          "colorscale": {
           "diverging": [
            [
             0,
             "#8e0152"
            ],
            [
             0.1,
             "#c51b7d"
            ],
            [
             0.2,
             "#de77ae"
            ],
            [
             0.3,
             "#f1b6da"
            ],
            [
             0.4,
             "#fde0ef"
            ],
            [
             0.5,
             "#f7f7f7"
            ],
            [
             0.6,
             "#e6f5d0"
            ],
            [
             0.7,
             "#b8e186"
            ],
            [
             0.8,
             "#7fbc41"
            ],
            [
             0.9,
             "#4d9221"
            ],
            [
             1,
             "#276419"
            ]
           ],
           "sequential": [
            [
             0,
             "#0d0887"
            ],
            [
             0.1111111111111111,
             "#46039f"
            ],
            [
             0.2222222222222222,
             "#7201a8"
            ],
            [
             0.3333333333333333,
             "#9c179e"
            ],
            [
             0.4444444444444444,
             "#bd3786"
            ],
            [
             0.5555555555555556,
             "#d8576b"
            ],
            [
             0.6666666666666666,
             "#ed7953"
            ],
            [
             0.7777777777777778,
             "#fb9f3a"
            ],
            [
             0.8888888888888888,
             "#fdca26"
            ],
            [
             1,
             "#f0f921"
            ]
           ],
           "sequentialminus": [
            [
             0,
             "#0d0887"
            ],
            [
             0.1111111111111111,
             "#46039f"
            ],
            [
             0.2222222222222222,
             "#7201a8"
            ],
            [
             0.3333333333333333,
             "#9c179e"
            ],
            [
             0.4444444444444444,
             "#bd3786"
            ],
            [
             0.5555555555555556,
             "#d8576b"
            ],
            [
             0.6666666666666666,
             "#ed7953"
            ],
            [
             0.7777777777777778,
             "#fb9f3a"
            ],
            [
             0.8888888888888888,
             "#fdca26"
            ],
            [
             1,
             "#f0f921"
            ]
           ]
          },
          "colorway": [
           "#636efa",
           "#EF553B",
           "#00cc96",
           "#ab63fa",
           "#FFA15A",
           "#19d3f3",
           "#FF6692",
           "#B6E880",
           "#FF97FF",
           "#FECB52"
          ],
          "font": {
           "color": "#2a3f5f"
          },
          "geo": {
           "bgcolor": "white",
           "lakecolor": "white",
           "landcolor": "#E5ECF6",
           "showlakes": true,
           "showland": true,
           "subunitcolor": "white"
          },
          "hoverlabel": {
           "align": "left"
          },
          "hovermode": "closest",
          "mapbox": {
           "style": "light"
          },
          "paper_bgcolor": "white",
          "plot_bgcolor": "#E5ECF6",
          "polar": {
           "angularaxis": {
            "gridcolor": "white",
            "linecolor": "white",
            "ticks": ""
           },
           "bgcolor": "#E5ECF6",
           "radialaxis": {
            "gridcolor": "white",
            "linecolor": "white",
            "ticks": ""
           }
          },
          "scene": {
           "xaxis": {
            "backgroundcolor": "#E5ECF6",
            "gridcolor": "white",
            "gridwidth": 2,
            "linecolor": "white",
            "showbackground": true,
            "ticks": "",
            "zerolinecolor": "white"
           },
           "yaxis": {
            "backgroundcolor": "#E5ECF6",
            "gridcolor": "white",
            "gridwidth": 2,
            "linecolor": "white",
            "showbackground": true,
            "ticks": "",
            "zerolinecolor": "white"
           },
           "zaxis": {
            "backgroundcolor": "#E5ECF6",
            "gridcolor": "white",
            "gridwidth": 2,
            "linecolor": "white",
            "showbackground": true,
            "ticks": "",
            "zerolinecolor": "white"
           }
          },
          "shapedefaults": {
           "line": {
            "color": "#2a3f5f"
           }
          },
          "ternary": {
           "aaxis": {
            "gridcolor": "white",
            "linecolor": "white",
            "ticks": ""
           },
           "baxis": {
            "gridcolor": "white",
            "linecolor": "white",
            "ticks": ""
           },
           "bgcolor": "#E5ECF6",
           "caxis": {
            "gridcolor": "white",
            "linecolor": "white",
            "ticks": ""
           }
          },
          "title": {
           "x": 0.05
          },
          "xaxis": {
           "automargin": true,
           "gridcolor": "white",
           "linecolor": "white",
           "ticks": "",
           "title": {
            "standoff": 15
           },
           "zerolinecolor": "white",
           "zerolinewidth": 2
          },
          "yaxis": {
           "automargin": true,
           "gridcolor": "white",
           "linecolor": "white",
           "ticks": "",
           "title": {
            "standoff": 15
           },
           "zerolinecolor": "white",
           "zerolinewidth": 2
          }
         }
        },
        "title": {
         "text": "3D Hand Pose with Point Labels"
        }
       }
      }
     },
     "metadata": {},
     "output_type": "display_data"
    }
   ],
   "source": [
    "from random import randint\n",
    "\n",
    "hands = hand_landmarks_by_angles(angles, morphology)\n",
    "\n",
    "i = randint(0, 1000)\n",
    "\n",
    "plot_3d_hand(y[i])\n",
    "plot_3d_hand(hands[i])"
   ]
  }
 ],
 "metadata": {
  "kernelspec": {
   "display_name": "Python 3",
   "language": "python",
   "name": "python3"
  },
  "language_info": {
   "codemirror_mode": {
    "name": "ipython",
    "version": 3
   },
   "file_extension": ".py",
   "mimetype": "text/x-python",
   "name": "python",
   "nbconvert_exporter": "python",
   "pygments_lexer": "ipython3",
   "version": "3.10.11"
  }
 },
 "nbformat": 4,
 "nbformat_minor": 5
}
