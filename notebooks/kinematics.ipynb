{
 "cells": [
  {
   "cell_type": "code",
   "execution_count": 2,
   "id": "bfbbe8b2",
   "metadata": {},
   "outputs": [],
   "source": [
    "from typing import List\n",
    "import numpy as np\n",
    "\n",
    "\n",
    "def read_hands(file: str):\n",
    "    poses: List[np.ndarray] = []\n",
    "    pose_size = 20 * 3  # number of floats\n",
    "    with open(file, \"rb\") as f:\n",
    "        data = f.read()\n",
    "        total_floats = len(data) // 4  # float32 = 4 bytes\n",
    "        if total_floats % pose_size != 0:\n",
    "            raise ValueError(\"File size is not a multiple of single pose size\")\n",
    "        array = np.frombuffer(data, dtype=np.float32)\n",
    "        for i in range(0, total_floats, pose_size):\n",
    "            pose = array[i : i + pose_size].reshape((20, 3))\n",
    "            poses.append(pose)\n",
    "    return np.stack(poses, axis=0)"
   ]
  },
  {
   "cell_type": "code",
   "execution_count": 3,
   "id": "c3f3eabe",
   "metadata": {},
   "outputs": [],
   "source": [
    "import plotly.graph_objects as go\n",
    "import numpy as np\n",
    "import torch\n",
    "\n",
    "\n",
    "def plot_3d_hand(landmarks: torch.Tensor | np.ndarray):\n",
    "    if isinstance(landmarks, torch.Tensor):\n",
    "        landmarks = landmarks.detach().cpu().numpy()\n",
    "\n",
    "    fig = go.Figure()\n",
    "    n_pts = landmarks.shape[0]\n",
    "    labels = [str(i) for i in range(n_pts)]\n",
    "\n",
    "    # Plot landmarks as 3D markers + text labels\n",
    "    fig.add_trace(\n",
    "        go.Scatter3d(\n",
    "            x=landmarks[:, 0],\n",
    "            y=landmarks[:, 1],\n",
    "            z=landmarks[:, 2],\n",
    "            mode=\"markers+text\",\n",
    "            marker=dict(size=4, color=\"blue\"),\n",
    "            text=labels,\n",
    "            textposition=\"top center\",\n",
    "            textfont=dict(size=8, color=\"black\"),\n",
    "            name=\"Landmarks\",\n",
    "        )\n",
    "    )\n",
    "\n",
    "    connections = [\n",
    "        (0, 1),\n",
    "        (1, 2),\n",
    "        (2, 3),  # Thumb\n",
    "        (0, 4),\n",
    "        (4, 5),\n",
    "        (5, 6),\n",
    "        (6, 7),  # Index\n",
    "        (0, 8),\n",
    "        (8, 9),\n",
    "        (9, 10),\n",
    "        (10, 11),  # Middle\n",
    "        (0, 12),\n",
    "        (12, 13),\n",
    "        (13, 14),\n",
    "        (14, 15),  # Ring\n",
    "        (0, 16),\n",
    "        (16, 17),\n",
    "        (17, 18),\n",
    "        (18, 19),  # Pinky\n",
    "        # Palm\n",
    "        (1, 4),\n",
    "        (4, 8),\n",
    "        (8, 12),\n",
    "        (12, 16),\n",
    "    ]\n",
    "\n",
    "    # Plot connections (lines) between the landmarks\n",
    "    for i, j in connections:\n",
    "        fig.add_trace(\n",
    "            go.Scatter3d(\n",
    "                x=[landmarks[i, 0], landmarks[j, 0]],\n",
    "                y=[landmarks[i, 1], landmarks[j, 1]],\n",
    "                z=[landmarks[i, 2], landmarks[j, 2]],\n",
    "                mode=\"lines\",\n",
    "                line=dict(color=\"black\", width=2),\n",
    "                showlegend=False,\n",
    "            )\n",
    "        )\n",
    "\n",
    "    fig.update_layout(\n",
    "        scene=dict(\n",
    "            xaxis_title=\"X\",\n",
    "            yaxis_title=\"Y\",\n",
    "            zaxis_title=\"Z\",\n",
    "            xaxis=dict(autorange=\"reversed\"),  # This line inverts the X axis\n",
    "        ),\n",
    "        title=\"3D Hand Pose with Point Labels\",\n",
    "        margin=dict(l=0, r=0, b=0, t=30),\n",
    "    )\n",
    "\n",
    "    fig.show()"
   ]
  },
  {
   "cell_type": "code",
   "execution_count": 4,
   "id": "ac2f741e",
   "metadata": {},
   "outputs": [],
   "source": [
    "import torch\n",
    "\n",
    "# Bone connections\n",
    "BONE_CONNECTIONS = [\n",
    "    (0, 1),\n",
    "    (1, 2),\n",
    "    (2, 3),  # Thumb\n",
    "    (0, 4),\n",
    "    (4, 5),\n",
    "    (5, 6),\n",
    "    (6, 7),  # Index\n",
    "    (0, 8),\n",
    "    (8, 9),\n",
    "    (9, 10),\n",
    "    (10, 11),  # Middle\n",
    "    (0, 12),\n",
    "    (12, 13),\n",
    "    (13, 14),\n",
    "    (14, 15),  # Ring\n",
    "    (0, 16),\n",
    "    (16, 17),\n",
    "    (17, 18),\n",
    "    (18, 19),  # Pinky\n",
    "]\n",
    "\n",
    "# Desired bone lengths\n",
    "BONE_LENGTHS = {\n",
    "    (0, 1): 7.0,\n",
    "    (1, 2): 3.5,\n",
    "    (2, 3): 2.5,  # Thumb\n",
    "    (0, 4): 9.0,\n",
    "    (4, 5): 4.0,\n",
    "    (5, 6): 2.5,\n",
    "    (6, 7): 2.0,  # Index\n",
    "    (0, 8): 9.0,\n",
    "    (8, 9): 5.0,\n",
    "    (9, 10): 3.0,\n",
    "    (10, 11): 2.0,  # Middle\n",
    "    (0, 12): 8.5,\n",
    "    (12, 13): 5.0,\n",
    "    (13, 14): 3.0,\n",
    "    (14, 15): 2.0,  # Ring\n",
    "    (0, 16): 8.0,\n",
    "    (16, 17): 4.0,\n",
    "    (17, 18): 2.5,\n",
    "    (18, 19): 2.0,  # Pinky\n",
    "}\n",
    "\n",
    "\n",
    "def fix_hand_landmarks_anatomy(joints: torch.Tensor) -> torch.Tensor:\n",
    "    \"\"\"\n",
    "    Normalize bone lengths of hand landmarks.\n",
    "    Input: joints - (B, 20, 3)\n",
    "    Output: (B, 20, 3) with normalized bone lengths\n",
    "    \"\"\"\n",
    "    fixed = joints.clone()\n",
    "\n",
    "    for p, c in BONE_CONNECTIONS:\n",
    "        vec = joints[:, c] - joints[:, p]  # (B, 3)\n",
    "        length = torch.norm(vec, dim=-1, keepdim=True)  # (B, 1)\n",
    "        direction = torch.where(\n",
    "            length > 0, vec / length, torch.zeros_like(vec)\n",
    "        )  # (B, 3)\n",
    "        target_length = BONE_LENGTHS[(p, c)]\n",
    "        fixed[:, c] = fixed[:, p] + direction * target_length\n",
    "\n",
    "    return fixed"
   ]
  },
  {
   "cell_type": "code",
   "execution_count": 5,
   "id": "dcac0429",
   "metadata": {},
   "outputs": [],
   "source": [
    "import numpy as np\n",
    "import torch\n",
    "\n",
    "\n",
    "def rotation_matrix_from_vectors(\n",
    "    vec1: torch.Tensor,\n",
    "    vec2: torch.Tensor,\n",
    "    eps: float = 1e-6,\n",
    ") -> torch.Tensor:\n",
    "    a = vec1 / vec1.norm()\n",
    "    b = vec2 / vec2.norm()\n",
    "    v = torch.cross(a, b, dim=-1)\n",
    "    if v.norm() < eps:\n",
    "        return torch.eye(3, dtype=vec1.dtype, device=vec1.device)\n",
    "    c = torch.dot(a, b)\n",
    "    s = v.norm()\n",
    "    K = torch.tensor(\n",
    "        [[0, -v[2], v[1]], [v[2], 0, -v[0]], [-v[1], v[0], 0]],\n",
    "        dtype=vec1.dtype,\n",
    "        device=vec1.device,\n",
    "    )\n",
    "    R = torch.eye(3, dtype=vec1.dtype, device=vec1.device)\n",
    "    return R + K + K @ K * ((1 - c) / (s * s))\n",
    "\n",
    "\n",
    "def normalize_hand(\n",
    "    hand_3d_points: torch.Tensor | np.ndarray,\n",
    "    whrist_base: int = 0,\n",
    "    middle_finger_inner_bone: int = 8,\n",
    "    point_finger_inner_bone: int = 4,\n",
    "    eps: float = 1e-6,\n",
    ") -> torch.Tensor:\n",
    "    \"\"\"\n",
    "    Normalize one hand (L,3) or a batch of hands (B, L, 3):\n",
    "      1. translate so point `whrist_base` is at the origin\n",
    "      2. rotate so `middle_finger_inner_bone` aligns with +Y\n",
    "      3. scale so that vector to `middle_finger_inner_bone` has length 1\n",
    "      4. rotate around Y so `point_finger_inner_bone` lies in the +Z half-plane\n",
    "    Returns same shape as input.\n",
    "    \"\"\"\n",
    "    if not isinstance(hand_3d_points, torch.Tensor):\n",
    "        hand_3d_points = torch.tensor(hand_3d_points, dtype=torch.float32)\n",
    "\n",
    "    # if batch of hands, just loop\n",
    "    if hand_3d_points.dim() == 3:\n",
    "        B, L, _ = hand_3d_points.shape\n",
    "        normalized = torch.empty_like(hand_3d_points)\n",
    "        for b in range(B):\n",
    "            # recursive call on each (L,3)\n",
    "            normalized[b] = normalize_hand(\n",
    "                hand_3d_points[b],\n",
    "                whrist_base,\n",
    "                middle_finger_inner_bone,\n",
    "                point_finger_inner_bone,\n",
    "                eps,\n",
    "            )\n",
    "        return normalized\n",
    "\n",
    "    # --- below is the original single‑hand logic for shape (L,3) ---\n",
    "    device, dtype = hand_3d_points.device, hand_3d_points.dtype\n",
    "\n",
    "    # 1) translate so wrist base → origin\n",
    "    T = -hand_3d_points[whrist_base]\n",
    "    hand = hand_3d_points + T\n",
    "\n",
    "    # 2) rotate so that middle finger inner bone aligns with +Y\n",
    "    target_y = torch.tensor([0, 1, 0], dtype=dtype, device=device)\n",
    "    R1 = rotation_matrix_from_vectors(hand[middle_finger_inner_bone], target_y, eps=eps)\n",
    "    hand = hand @ R1.T\n",
    "\n",
    "    # 3) scale so middle‐finger inner bone length → 1\n",
    "    hand = hand / (hand[middle_finger_inner_bone][1] + eps)\n",
    "\n",
    "    # 4) rotate around Y so the point finger inner bone lies in +Z half-plane\n",
    "    v = hand[point_finger_inner_bone]\n",
    "    xz = torch.stack([v[0], v[2]])\n",
    "    norm_xz = xz.norm()\n",
    "    if norm_xz >= eps:\n",
    "        sinA, cosA = xz[0] / norm_xz, xz[1] / norm_xz\n",
    "        R2 = torch.tensor(\n",
    "            [[cosA, 0.0, -sinA], [0.0, 1.0, 0.0], [sinA, 0.0, cosA]],\n",
    "            dtype=dtype,\n",
    "            device=device,\n",
    "        )\n",
    "        hand = hand @ R2.T\n",
    "\n",
    "    return hand"
   ]
  },
  {
   "cell_type": "code",
   "execution_count": 6,
   "id": "6ba2ab90",
   "metadata": {},
   "outputs": [],
   "source": [
    "def rot(\n",
    "    v: torch.Tensor,\n",
    "    p: torch.Tensor,\n",
    "    alpha: torch.Tensor,\n",
    "    beta: torch.Tensor,\n",
    "):\n",
    "    \"\"\"\n",
    "    Batched rotation function.\n",
    "\n",
    "    v, p: (B, 3) tensors representing vector and the first axis of rotation\n",
    "    alpha, beta: (B,) tensors representing angles to use for rotation\n",
    "    \"\"\"\n",
    "    sinA, cosA = torch.sin(alpha).unsqueeze(-1), torch.cos(alpha).unsqueeze(-1)\n",
    "    sinB, cosB = torch.sin(beta).unsqueeze(-1), torch.cos(beta).unsqueeze(-1)\n",
    "\n",
    "    q = torch.cross(v, p, dim=1)\n",
    "\n",
    "    v_hat = q * sinA + v * cosA * cosB + p * sinB\n",
    "    p_hat = p * cosB - v * sinB\n",
    "\n",
    "    return v_hat, p_hat\n",
    "\n",
    "\n",
    "def hand_landmarks_by_angles(\n",
    "    angles: torch.Tensor,\n",
    "    morphology: torch.Tensor,\n",
    "):\n",
    "    \"\"\"\n",
    "    angles: (B, 20)\n",
    "    morphology: (5, 7) - not batched\n",
    "    Returns: (B, 20, 3)\n",
    "    \"\"\"\n",
    "    B = angles.shape[0]\n",
    "    landmarks = torch.zeros(B, 20, 3, dtype=angles.dtype, device=angles.device)\n",
    "\n",
    "    angles = angles.unflatten(dim=-1, sizes=(5, 4))\n",
    "\n",
    "    # Write morphological const points\n",
    "    for i in range(1, 5):\n",
    "        landmarks[:, 4 * i, :] = morphology[i, 3:6]\n",
    "\n",
    "    V = torch.tensor([0, 1, 0], dtype=angles.dtype, device=angles.device).expand(B, 3)\n",
    "    P = torch.tensor([-1, 0, 0], dtype=angles.dtype, device=angles.device).expand(B, 3)\n",
    "\n",
    "    for finger_index, (morph, local_angles) in enumerate(\n",
    "        zip(morphology, angles.transpose(0, 1))\n",
    "    ):\n",
    "        base_idx = finger_index * 4\n",
    "        bone_lengths = morph[0:3]\n",
    "        joint = morph[3:6].expand(B, 3).clone()\n",
    "        gamma = morph[6]\n",
    "\n",
    "        a0, b0, a2, a3 = local_angles.unbind(dim=-1)\n",
    "        chain_angles = torch.stack(\n",
    "            [\n",
    "                torch.stack([a0, b0], dim=-1),\n",
    "                torch.stack([a2, torch.zeros_like(a2)], dim=-1),\n",
    "                torch.stack([a3, torch.zeros_like(a3)], dim=-1),\n",
    "            ],\n",
    "            dim=1,\n",
    "        )  # (B, 3, 2)\n",
    "\n",
    "        v = torch.nn.functional.normalize(joint, dim=-1)\n",
    "\n",
    "        # Get p perpendicular to v\n",
    "        sinB = torch.sum(v * P, dim=-1, keepdim=True)  # (B, 1)\n",
    "        cosB = torch.sqrt(1.0 - sinB**2)  # (B, 1)\n",
    "        p = P * cosB - V * sinB  # (B, 3)\n",
    "\n",
    "        # Rotate p around v according to parameter gamma\n",
    "        sinG, cosG = torch.sin(gamma), torch.cos(gamma)\n",
    "        p = p * cosG + torch.cross(p, v, dim=-1) * sinG\n",
    "\n",
    "        # Iterate over the chain and write the 3d points\n",
    "        for j in range(3):\n",
    "            l = bone_lengths[j]\n",
    "            alpha, beta = chain_angles[:, j, 0], chain_angles[:, j, 1]\n",
    "            v, p = rot(v, p, alpha, beta)\n",
    "            joint = joint + v * l\n",
    "            landmarks[:, base_idx + j + 1, :] = joint\n",
    "\n",
    "    return landmarks"
   ]
  },
  {
   "cell_type": "code",
   "execution_count": 7,
   "id": "4ad63124",
   "metadata": {},
   "outputs": [],
   "source": [
    "def irot(\n",
    "    v: torch.Tensor,\n",
    "    p: torch.Tensor,\n",
    "    v_hat: torch.Tensor,\n",
    "):\n",
    "    \"\"\"\n",
    "    Batched inverse rotation function.\n",
    "\n",
    "    v, p: (B, 3) tensors representing the original vector and rotation axis\n",
    "    v_hat: (B, 3) the rotated vector\n",
    "\n",
    "    Returns:\n",
    "    alpha, beta: (B,) tensors representing rotation angles\n",
    "    p_hat: (B, 3) new axis of rotation after rotating v by alpha, beta to v_hat\n",
    "    \"\"\"\n",
    "    # Cross product axis\n",
    "    q = torch.cross(v, p, dim=-1)\n",
    "\n",
    "    # Compute sinA and sinB\n",
    "    sinA = (v_hat * q).sum(dim=-1).clamp(-1 + 1e-6, 1 - 1e-6)\n",
    "    sinB = (v_hat * p).sum(dim=-1).clamp(-1 + 1e-6, 1 - 1e-6)\n",
    "\n",
    "    # Alpha is angle around q (torsion), beta is angle between v and v_hat in plane with p\n",
    "    alpha = torch.asin(sinA)\n",
    "    beta = torch.asin(sinB)\n",
    "\n",
    "    cosB = (1 - sinB**2).clamp(min=1e-7).sqrt()\n",
    "    p_hat = p * cosB.unsqueeze(-1) - v * sinB.unsqueeze(-1)\n",
    "\n",
    "    return alpha, beta, p_hat\n",
    "\n",
    "\n",
    "def inverse_hand_angles_by_landmarks(\n",
    "    landmarks: torch.Tensor,\n",
    "    morphology: torch.Tensor,\n",
    ") -> torch.Tensor:\n",
    "    \"\"\"\n",
    "    landmarks: (B, 20, 3) - known hand landmarks in 3D space\n",
    "    morphology: (5, 7) - hand morphology (not batched)\n",
    "\n",
    "    Returns:\n",
    "    angles: (B, 20) - recovered joint angles\n",
    "    \"\"\"\n",
    "    B = landmarks.shape[0]\n",
    "    angles = torch.zeros(B, 5, 4, dtype=landmarks.dtype, device=landmarks.device)\n",
    "\n",
    "    V = torch.tensor([0, 1, 0], dtype=landmarks.dtype, device=landmarks.device).expand(\n",
    "        B, 3\n",
    "    )\n",
    "    P = torch.tensor([-1, 0, 0], dtype=landmarks.dtype, device=landmarks.device).expand(\n",
    "        B, 3\n",
    "    )\n",
    "\n",
    "    for i, morph in enumerate(morphology):\n",
    "        joint = morph[3:6].expand(B, 3).clone()\n",
    "        gamma = morph[6]\n",
    "\n",
    "        v = torch.nn.functional.normalize(joint, dim=-1)\n",
    "\n",
    "        # Get p perpendicular to v\n",
    "        sinB = torch.sum(v * P, dim=-1, keepdim=True)  # (B, 1)\n",
    "        cosB = torch.sqrt(1.0 - sinB**2)  # (B, 1)\n",
    "        p = P * cosB - V * sinB  # (B, 3)\n",
    "\n",
    "        # Rotate p around v according to parameter gamma\n",
    "        sinG, cosG = torch.sin(gamma), torch.cos(gamma)\n",
    "        p = p * cosG + torch.cross(p, v, dim=-1) * sinG\n",
    "\n",
    "        idx = [4 * i + j for j in range(4)]\n",
    "\n",
    "        for j in range(3):\n",
    "            target = torch.nn.functional.normalize(\n",
    "                landmarks[:, idx[j + 1]] - landmarks[:, idx[j]], dim=-1\n",
    "            )\n",
    "\n",
    "            alpha, beta, p = irot(v, p, target)\n",
    "            v = target\n",
    "\n",
    "            if j == 0:\n",
    "                angles[:, i, 0] = alpha\n",
    "                angles[:, i, 1] = beta\n",
    "            else:\n",
    "                angles[:, i, j + 1] = alpha\n",
    "\n",
    "    return angles.flatten(start_dim=1)"
   ]
  },
  {
   "cell_type": "code",
   "execution_count": 10,
   "id": "c4ceda4d",
   "metadata": {},
   "outputs": [
    {
     "name": "stderr",
     "output_type": "stream",
     "text": [
      "100%|██████████| 10000/10000 [14:04<00:00, 11.84it/s]\n"
     ]
    },
    {
     "data": {
      "image/png": "[encoded data removed]",
      "text/plain": [
       "<Figure size 600x400 with 1 Axes>"
      ]
     },
     "metadata": {},
     "output_type": "display_data"
    },
    {
     "name": "stdout",
     "output_type": "stream",
     "text": [
      "Final err: 0.07158096134662628\n"
     ]
    },
    {
     "data": {
      "text/plain": [
       "tensor([[ 7.5329e-01,  3.7025e-01,  2.5811e-01,  7.3117e-03,  1.1166e-02,\n",
       "          4.2211e-04, -3.5689e+00],\n",
       "        [ 4.3777e-01,  2.7459e-01,  2.2351e-01, -1.6304e-03,  9.7066e-01,\n",
       "          2.2563e-01,  1.5067e+00],\n",
       "        [ 5.3909e-01,  3.2731e-01,  2.2931e-01, -9.7050e-04,  9.9966e-01,\n",
       "         -1.7299e-02, -1.1042e+01],\n",
       "        [ 5.3695e-01,  3.2312e-01,  2.3646e-01, -3.7696e-02,  9.1871e-01,\n",
       "         -2.2384e-01,  1.4743e+00],\n",
       "        [ 4.6647e-01,  2.6924e-01,  2.3053e-01, -9.2299e-02,  7.6455e-01,\n",
       "         -3.9918e-01,  1.3717e+00]], requires_grad=True)"
      ]
     },
     "execution_count": 10,
     "metadata": {},
     "output_type": "execute_result"
    }
   ],
   "source": [
    "from matplotlib import pyplot as plt\n",
    "from tqdm import tqdm\n",
    "\n",
    "rec = read_hands(\"dataset.rec\")\n",
    "\n",
    "y = normalize_hand(rec)\n",
    "\n",
    "B, L = y.shape[0], y.shape[1]\n",
    "\n",
    "morphology = torch.rand(5, 7, device=y.device, requires_grad=True)\n",
    "\n",
    "optimizer = torch.optim.NAdam([morphology], lr=0.3)\n",
    "scheduler = torch.optim.lr_scheduler.LinearLR(\n",
    "    optimizer,\n",
    "    start_factor=1.0,\n",
    "    end_factor=0.01,\n",
    "    total_iters=10000,\n",
    ")\n",
    "\n",
    "err_history = []\n",
    "lr_history = []\n",
    "\n",
    "for _ in tqdm(range(10000)):\n",
    "    optimizer.zero_grad()\n",
    "    y_hat = hand_landmarks_by_angles(\n",
    "        inverse_hand_angles_by_landmarks(y, morphology), morphology\n",
    "    )\n",
    "    loss = ((y_hat - y) ** 2).sum(dim=-1).mean()\n",
    "\n",
    "    loss.backward()\n",
    "    optimizer.step()\n",
    "    scheduler.step()\n",
    "\n",
    "    err_history.append(loss.sqrt().item())\n",
    "    lr_history.append(optimizer.param_groups[0][\"lr\"])\n",
    "\n",
    "# Plot error progression\n",
    "plt.figure(figsize=(6, 4))\n",
    "plt.plot(err_history, label=\"RMSE\")\n",
    "plt.yscale(\"log\")\n",
    "plt.xlabel(\"Iteration\")\n",
    "plt.ylabel(\"RMSE\")\n",
    "plt.title(f\"Error Progression\")\n",
    "plt.legend()\n",
    "plt.tight_layout()\n",
    "plt.show()\n",
    "\n",
    "print(\"Final err:\", err_history[-1])\n",
    "morphology"
   ]
  },
  {
   "cell_type": "code",
   "execution_count": 15,
   "id": "190e034d",
   "metadata": {},
   "outputs": [
    {
     "data": {
      "application/vnd.plotly.v1+json": {
       "config": {
        "plotlyServerURL": "https://plot.ly"
       },
       "data": [
        {
         "marker": {
          "color": "blue",
          "size": 4
         },
         "mode": "markers+text",
         "name": "Landmarks",
         "text": [
          "0",
          "1",
          "2",
          "3",
          "4",
          "5",
          "6",
          "7",
          "8",
          "9",
          "10",
          "11",
          "12",
          "13",
          "14",
          "15",
          "16",
          "17",
          "18",
          "19"
         ],
         "textfont": {
          "color": "black",
          "size": 8
         },
         "textposition": "top center",
         "type": "scatter3d",
         "x": {
          "bdata": "AAAAAFjew75EoQ6/Bb8jvwAAAADYuTS+teGUvl88zL4YHwSlrk80vsYoo76YEeS+lh8avXmMjL5dqPu+w+cov7iR573Y+8e+7wUcvwBTTb8=",
          "dtype": "f4"
         },
         "y": {
          "bdata": "AAAAAOYe7D7Tc0A/fx16P0ZKdj/6d64/ut/OP32U5z/w/38/5FbDPwkp6T/mx/8/DAlqP8Fusz/sStI/3YLkP/IeRD8Ym4g/RYqZP1GFpj8=",
          "dtype": "f4"
         },
         "z": {
          "bdata": "AAAAAF/l/T4jui8/H5ZTP/eriz6yA7I+hw2zPjNUqD66lD6lA97wvJ3vtL2DKQm+nLNvvuwMtr5sWd2+W+zrvuBt37647Ru/Ua43v9coQ78=",
          "dtype": "f4"
         }
        },
        {
         "line": {
          "color": "black",
          "width": 2
         },
         "mode": "lines",
         "showlegend": false,
         "type": "scatter3d",
         "x": [
          0,
          -0.3825557231903076
         ],
         "y": [
          0,
          0.46117323637008667
         ],
         "z": [
          0,
          0.4958905875682831
         ]
        },
        {
         "line": {
          "color": "black",
          "width": 2
         },
         "mode": "lines",
         "showlegend": false,
         "type": "scatter3d",
         "x": [
          -0.3825557231903076,
          -0.5571482181549072
         ],
         "y": [
          0.46117323637008667,
          0.7517673373222351
         ],
         "z": [
          0.4958905875682831,
          0.6864339709281921
         ]
        },
        {
         "line": {
          "color": "black",
          "width": 2
         },
         "mode": "lines",
         "showlegend": false,
         "type": "scatter3d",
         "x": [
          -0.5571482181549072,
          -0.6396334767341614
         ],
         "y": [
          0.7517673373222351,
          0.977012574672699
         ],
         "z": [
          0.6864339709281921,
          0.826509416103363
         ]
        },
        {
         "line": {
          "color": "black",
          "width": 2
         },
         "mode": "lines",
         "showlegend": false,
         "type": "scatter3d",
         "x": [
          0,
          0
         ],
         "y": [
          0,
          0.9620708227157593
         ],
         "z": [
          0,
          0.2727963626384735
         ]
        },
        {
         "line": {
          "color": "black",
          "width": 2
         },
         "mode": "lines",
         "showlegend": false,
         "type": "scatter3d",
         "x": [
          0,
          -0.1764901876449585
         ],
         "y": [
          0.9620708227157593,
          1.3630363941192627
         ],
         "z": [
          0.2727963626384735,
          0.34768444299697876
         ]
        },
        {
         "line": {
          "color": "black",
          "width": 2
         },
         "mode": "lines",
         "showlegend": false,
         "type": "scatter3d",
         "x": [
          -0.1764901876449585,
          -0.2907845079898834
         ],
         "y": [
          1.3630363941192627,
          1.6162025928497314
         ],
         "z": [
          0.34768444299697876,
          0.3497125804424286
         ]
        },
        {
         "line": {
          "color": "black",
          "width": 2
         },
         "mode": "lines",
         "showlegend": false,
         "type": "scatter3d",
         "x": [
          -0.2907845079898834,
          -0.39889809489250183
         ],
         "y": [
          1.6162025928497314,
          1.8092190027236938
         ],
         "z": [
          0.3497125804424286,
          0.3287673890590668
         ]
        },
        {
         "line": {
          "color": "black",
          "width": 2
         },
         "mode": "lines",
         "showlegend": false,
         "type": "scatter3d",
         "x": [
          0,
          -1.1459709913728402e-16
         ],
         "y": [
          0,
          0.9999990463256836
         ],
         "z": [
          0,
          -1.6530263541207418e-16
         ]
        },
        {
         "line": {
          "color": "black",
          "width": 2
         },
         "mode": "lines",
         "showlegend": false,
         "type": "scatter3d",
         "x": [
          -1.1459709913728402e-16,
          -0.1760852038860321
         ],
         "y": [
          0.9999990463256836,
          1.5260891914367676
         ],
         "z": [
          -1.6530263541207418e-16,
          -0.02940273843705654
         ]
        },
        {
         "line": {
          "color": "black",
          "width": 2
         },
         "mode": "lines",
         "showlegend": false,
         "type": "scatter3d",
         "x": [
          -0.1760852038860321,
          -0.31867045164108276
         ],
         "y": [
          1.5260891914367676,
          1.821564793586731
         ],
         "z": [
          -0.02940273843705654,
          -0.0883476510643959
         ]
        },
        {
         "line": {
          "color": "black",
          "width": 2
         },
         "mode": "lines",
         "showlegend": false,
         "type": "scatter3d",
         "x": [
          -0.31867045164108276,
          -0.4454467296600342
         ],
         "y": [
          1.821564793586731,
          1.9982879161834717
         ],
         "z": [
          -0.0883476510643959,
          -0.13394741714000702
         ]
        },
        {
         "line": {
          "color": "black",
          "width": 2
         },
         "mode": "lines",
         "showlegend": false,
         "type": "scatter3d",
         "x": [
          0,
          -0.03762777894735336
         ],
         "y": [
          0,
          0.9142005443572998
         ],
         "z": [
          0,
          -0.23408359289169312
         ]
        },
        {
         "line": {
          "color": "black",
          "width": 2
         },
         "mode": "lines",
         "showlegend": false,
         "type": "scatter3d",
         "x": [
          -0.03762777894735336,
          -0.2745092213153839
         ],
         "y": [
          0.9142005443572998,
          1.4018174409866333
         ],
         "z": [
          -0.23408359289169312,
          -0.3555673360824585
         ]
        },
        {
         "line": {
          "color": "black",
          "width": 2
         },
         "mode": "lines",
         "showlegend": false,
         "type": "scatter3d",
         "x": [
          -0.2745092213153839,
          -0.49151888489723206
         ],
         "y": [
          1.4018174409866333,
          1.642911434173584
         ],
         "z": [
          -0.3555673360824585,
          -0.4323228597640991
         ]
        },
        {
         "line": {
          "color": "black",
          "width": 2
         },
         "mode": "lines",
         "showlegend": false,
         "type": "scatter3d",
         "x": [
          -0.49151888489723206,
          -0.6597864031791687
         ],
         "y": [
          1.642911434173584,
          1.7852436304092407
         ],
         "z": [
          -0.4323228597640991,
          -0.4607876241207123
         ]
        },
        {
         "line": {
          "color": "black",
          "width": 2
         },
         "mode": "lines",
         "showlegend": false,
         "type": "scatter3d",
         "x": [
          0,
          -0.11307090520858765
         ],
         "y": [
          0,
          0.7660971879959106
         ],
         "z": [
          0,
          -0.4363851547241211
         ]
        },
        {
         "line": {
          "color": "black",
          "width": 2
         },
         "mode": "lines",
         "showlegend": false,
         "type": "scatter3d",
         "x": [
          -0.11307090520858765,
          -0.3905932903289795
         ],
         "y": [
          0.7660971879959106,
          1.0672330856323242
         ],
         "z": [
          -0.4363851547241211,
          -0.6090960502624512
         ]
        },
        {
         "line": {
          "color": "black",
          "width": 2
         },
         "mode": "lines",
         "showlegend": false,
         "type": "scatter3d",
         "x": [
          -0.3905932903289795,
          -0.6094655394554138
         ],
         "y": [
          1.0672330856323242,
          1.199532151222229
         ],
         "z": [
          -0.6090960502624512,
          -0.7175036072731018
         ]
        },
        {
         "line": {
          "color": "black",
          "width": 2
         },
         "mode": "lines",
         "showlegend": false,
         "type": "scatter3d",
         "x": [
          -0.6094655394554138,
          -0.8020477294921875
         ],
         "y": [
          1.199532151222229,
          1.3009434938430786
         ],
         "z": [
          -0.7175036072731018,
          -0.7623419165611267
         ]
        },
        {
         "line": {
          "color": "black",
          "width": 2
         },
         "mode": "lines",
         "showlegend": false,
         "type": "scatter3d",
         "x": [
          -0.3825557231903076,
          0
         ],
         "y": [
          0.46117323637008667,
          0.9620708227157593
         ],
         "z": [
          0.4958905875682831,
          0.2727963626384735
         ]
        },
        {
         "line": {
          "color": "black",
          "width": 2
         },
         "mode": "lines",
         "showlegend": false,
         "type": "scatter3d",
         "x": [
          0,
          -1.1459709913728402e-16
         ],
         "y": [
          0.9620708227157593,
          0.9999990463256836
         ],
         "z": [
          0.2727963626384735,
          -1.6530263541207418e-16
         ]
        },
        {
         "line": {
          "color": "black",
          "width": 2
         },
         "mode": "lines",
         "showlegend": false,
         "type": "scatter3d",
         "x": [
          -1.1459709913728402e-16,
          -0.03762777894735336
         ],
         "y": [
          0.9999990463256836,
          0.9142005443572998
         ],
         "z": [
          -1.6530263541207418e-16,
          -0.23408359289169312
         ]
        },
        {
         "line": {
          "color": "black",
          "width": 2
         },
         "mode": "lines",
         "showlegend": false,
         "type": "scatter3d",
         "x": [
          -0.03762777894735336,
          -0.11307090520858765
         ],
         "y": [
          0.9142005443572998,
          0.7660971879959106
         ],
         "z": [
          -0.23408359289169312,
          -0.4363851547241211
         ]
        }
       ],
       "layout": {
        "margin": {
         "b": 0,
         "l": 0,
         "r": 0,
         "t": 30
        },
        "scene": {
         "xaxis": {
          "autorange": "reversed",
          "title": {
           "text": "X"
          }
         },
         "yaxis": {
          "title": {
           "text": "Y"
          }
         },
         "zaxis": {
          "title": {
           "text": "Z"
          }
         }
        },
        "template": {
         "data": {
          "bar": [
           {
            "error_x": {
             "color": "#2a3f5f"
            },
            "error_y": {
             "color": "#2a3f5f"
            },
            "marker": {
             "line": {
              "color": "#E5ECF6",
              "width": 0.5
             },
             "pattern": {
              "fillmode": "overlay",
              "size": 10,
              "solidity": 0.2
             }
            },
            "type": "bar"
           }
          ],
          "barpolar": [
           {
            "marker": {
             "line": {
              "color": "#E5ECF6",
              "width": 0.5
             },
             "pattern": {
              "fillmode": "overlay",
              "size": 10,
              "solidity": 0.2
             }
            },
            "type": "barpolar"
           }
          ],
          "carpet": [
           {
            "aaxis": {
             "endlinecolor": "#2a3f5f",
             "gridcolor": "white",
             "linecolor": "white",
             "minorgridcolor": "white",
             "startlinecolor": "#2a3f5f"
            },
            "baxis": {
             "endlinecolor": "#2a3f5f",
             "gridcolor": "white",
             "linecolor": "white",
             "minorgridcolor": "white",
             "startlinecolor": "#2a3f5f"
            },
            "type": "carpet"
           }
          ],
          "choropleth": [
           {
            "colorbar": {
             "outlinewidth": 0,
             "ticks": ""
            },
            "type": "choropleth"
           }
          ],
          "contour": [
           {
            "colorbar": {
             "outlinewidth": 0,
             "ticks": ""
            },
            "colorscale": [
             [
              0,
              "#0d0887"
             ],
             [
              0.1111111111111111,
              "#46039f"
             ],
             [
              0.2222222222222222,
              "#7201a8"
             ],
             [
              0.3333333333333333,
              "#9c179e"
             ],
             [
              0.4444444444444444,
              "#bd3786"
             ],
             [
              0.5555555555555556,
              "#d8576b"
             ],
             [
              0.6666666666666666,
              "#ed7953"
             ],
             [
              0.7777777777777778,
              "#fb9f3a"
             ],
             [
              0.8888888888888888,
              "#fdca26"
             ],
             [
              1,
              "#f0f921"
             ]
            ],
            "type": "contour"
           }
          ],
          "contourcarpet": [
           {
            "colorbar": {
             "outlinewidth": 0,
             "ticks": ""
            },
            "type": "contourcarpet"
           }
          ],
          "heatmap": [
           {
            "colorbar": {
             "outlinewidth": 0,
             "ticks": ""
            },
            "colorscale": [
             [
              0,
              "#0d0887"
             ],
             [
              0.1111111111111111,
              "#46039f"
             ],
             [
              0.2222222222222222,
              "#7201a8"
             ],
             [
              0.3333333333333333,
              "#9c179e"
             ],
             [
              0.4444444444444444,
              "#bd3786"
             ],
             [
              0.5555555555555556,
              "#d8576b"
             ],
             [
              0.6666666666666666,
              "#ed7953"
             ],
             [
              0.7777777777777778,
              "#fb9f3a"
             ],
             [
              0.8888888888888888,
              "#fdca26"
             ],
             [
              1,
              "#f0f921"
             ]
            ],
            "type": "heatmap"
           }
          ],
          "histogram": [
           {
            "marker": {
             "pattern": {
              "fillmode": "overlay",
              "size": 10,
              "solidity": 0.2
             }
            },
            "type": "histogram"
           }
          ],
          "histogram2d": [
           {
            "colorbar": {
             "outlinewidth": 0,
             "ticks": ""
            },
            "colorscale": [
             [
              0,
              "#0d0887"
             ],
             [
              0.1111111111111111,
              "#46039f"
             ],
             [
              0.2222222222222222,
              "#7201a8"
             ],
             [
              0.3333333333333333,
              "#9c179e"
             ],
             [
              0.4444444444444444,
              "#bd3786"
             ],
             [
              0.5555555555555556,
              "#d8576b"
             ],
             [
              0.6666666666666666,
              "#ed7953"
             ],
             [
              0.7777777777777778,
              "#fb9f3a"
             ],
             [
              0.8888888888888888,
              "#fdca26"
             ],
             [
              1,
              "#f0f921"
             ]
            ],
            "type": "histogram2d"
           }
          ],
          "histogram2dcontour": [
           {
            "colorbar": {
             "outlinewidth": 0,
             "ticks": ""
            },
            "colorscale": [
             [
              0,
              "#0d0887"
             ],
             [
              0.1111111111111111,
              "#46039f"
             ],
             [
              0.2222222222222222,
              "#7201a8"
             ],
             [
              0.3333333333333333,
              "#9c179e"
             ],
             [
              0.4444444444444444,
              "#bd3786"
             ],
             [
              0.5555555555555556,
              "#d8576b"
             ],
             [
              0.6666666666666666,
              "#ed7953"
             ],
             [
              0.7777777777777778,
              "#fb9f3a"
             ],
             [
              0.8888888888888888,
              "#fdca26"
             ],
             [
              1,
              "#f0f921"
             ]
            ],
            "type": "histogram2dcontour"
           }
          ],
          "mesh3d": [
           {
            "colorbar": {
             "outlinewidth": 0,
             "ticks": ""
            },
            "type": "mesh3d"
           }
          ],
          "parcoords": [
           {
            "line": {
             "colorbar": {
              "outlinewidth": 0,
              "ticks": ""
             }
            },
            "type": "parcoords"
           }
          ],
          "pie": [
           {
            "automargin": true,
            "type": "pie"
           }
          ],
          "scatter": [
           {
            "fillpattern": {
             "fillmode": "overlay",
             "size": 10,
             "solidity": 0.2
            },
            "type": "scatter"
           }
          ],
          "scatter3d": [
           {
            "line": {
             "colorbar": {
              "outlinewidth": 0,
              "ticks": ""
             }
            },
            "marker": {
             "colorbar": {
              "outlinewidth": 0,
              "ticks": ""
             }
            },
            "type": "scatter3d"
           }
          ],
          "scattercarpet": [
           {
            "marker": {
             "colorbar": {
              "outlinewidth": 0,
              "ticks": ""
             }
            },
            "type": "scattercarpet"
           }
          ],
          "scattergeo": [
           {
            "marker": {
             "colorbar": {
              "outlinewidth": 0,
              "ticks": ""
             }
            },
            "type": "scattergeo"
           }
          ],
          "scattergl": [
           {
            "marker": {
             "colorbar": {
              "outlinewidth": 0,
              "ticks": ""
             }
            },
            "type": "scattergl"
           }
          ],
          "scattermap": [
           {
            "marker": {
             "colorbar": {
              "outlinewidth": 0,
              "ticks": ""
             }
            },
            "type": "scattermap"
           }
          ],
          "scattermapbox": [
           {
            "marker": {
             "colorbar": {
              "outlinewidth": 0,
              "ticks": ""
             }
            },
            "type": "scattermapbox"
           }
          ],
          "scatterpolar": [
           {
            "marker": {
             "colorbar": {
              "outlinewidth": 0,
              "ticks": ""
             }
            },
            "type": "scatterpolar"
           }
          ],
          "scatterpolargl": [
           {
            "marker": {
             "colorbar": {
              "outlinewidth": 0,
              "ticks": ""
             }
            },
            "type": "scatterpolargl"
           }
          ],
          "scatterternary": [
           {
            "marker": {
             "colorbar": {
              "outlinewidth": 0,
              "ticks": ""
             }
            },
            "type": "scatterternary"
           }
          ],
          "surface": [
           {
            "colorbar": {
             "outlinewidth": 0,
             "ticks": ""
            },
            "colorscale": [
             [
              0,
              "#0d0887"
             ],
             [
              0.1111111111111111,
              "#46039f"
             ],
             [
              0.2222222222222222,
              "#7201a8"
             ],
             [
              0.3333333333333333,
              "#9c179e"
             ],
             [
              0.4444444444444444,
              "#bd3786"
             ],
             [
              0.5555555555555556,
              "#d8576b"
             ],
             [
              0.6666666666666666,
              "#ed7953"
             ],
             [
              0.7777777777777778,
              "#fb9f3a"
             ],
             [
              0.8888888888888888,
              "#fdca26"
             ],
             [
              1,
              "#f0f921"
             ]
            ],
            "type": "surface"
           }
          ],
          "table": [
           {
            "cells": {
             "fill": {
              "color": "#EBF0F8"
             },
             "line": {
              "color": "white"
             }
            },
            "header": {
             "fill": {
              "color": "#C8D4E3"
             },
             "line": {
              "color": "white"
             }
            },
            "type": "table"
           }
          ]
         },
         "layout": {
          "annotationdefaults": {
           "arrowcolor": "#2a3f5f",
           "arrowhead": 0,
           "arrowwidth": 1
          },
          "autotypenumbers": "strict",
          "coloraxis": {
           "colorbar": {
            "outlinewidth": 0,
            "ticks": ""
           }
          },
          "colorscale": {
           "diverging": [
            [
             0,
             "#8e0152"
            ],
            [
             0.1,
             "#c51b7d"
            ],
            [
             0.2,
             "#de77ae"
            ],
            [
             0.3,
             "#f1b6da"
            ],
            [
             0.4,
             "#fde0ef"
            ],
            [
             0.5,
             "#f7f7f7"
            ],
            [
             0.6,
             "#e6f5d0"
            ],
            [
             0.7,
             "#b8e186"
            ],
            [
             0.8,
             "#7fbc41"
            ],
            [
             0.9,
             "#4d9221"
            ],
            [
             1,
             "#276419"
            ]
           ],
           "sequential": [
            [
             0,
             "#0d0887"
            ],
            [
             0.1111111111111111,
             "#46039f"
            ],
            [
             0.2222222222222222,
             "#7201a8"
            ],
            [
             0.3333333333333333,
             "#9c179e"
            ],
            [
             0.4444444444444444,
             "#bd3786"
            ],
            [
             0.5555555555555556,
             "#d8576b"
            ],
            [
             0.6666666666666666,
             "#ed7953"
            ],
            [
             0.7777777777777778,
             "#fb9f3a"
            ],
            [
             0.8888888888888888,
             "#fdca26"
            ],
            [
             1,
             "#f0f921"
            ]
           ],
           "sequentialminus": [
            [
             0,
             "#0d0887"
            ],
            [
             0.1111111111111111,
             "#46039f"
            ],
            [
             0.2222222222222222,
             "#7201a8"
            ],
            [
             0.3333333333333333,
             "#9c179e"
            ],
            [
             0.4444444444444444,
             "#bd3786"
            ],
            [
             0.5555555555555556,
             "#d8576b"
            ],
            [
             0.6666666666666666,
             "#ed7953"
            ],
            [
             0.7777777777777778,
             "#fb9f3a"
            ],
            [
             0.8888888888888888,
             "#fdca26"
            ],
            [
             1,
             "#f0f921"
            ]
           ]
          },
          "colorway": [
           "#636efa",
           "#EF553B",
           "#00cc96",
           "#ab63fa",
           "#FFA15A",
           "#19d3f3",
           "#FF6692",
           "#B6E880",
           "#FF97FF",
           "#FECB52"
          ],
          "font": {
           "color": "#2a3f5f"
          },
          "geo": {
           "bgcolor": "white",
           "lakecolor": "white",
           "landcolor": "#E5ECF6",
           "showlakes": true,
           "showland": true,
           "subunitcolor": "white"
          },
          "hoverlabel": {
           "align": "left"
          },
          "hovermode": "closest",
          "mapbox": {
           "style": "light"
          },
          "paper_bgcolor": "white",
          "plot_bgcolor": "#E5ECF6",
          "polar": {
           "angularaxis": {
            "gridcolor": "white",
            "linecolor": "white",
            "ticks": ""
           },
           "bgcolor": "#E5ECF6",
           "radialaxis": {
            "gridcolor": "white",
            "linecolor": "white",
            "ticks": ""
           }
          },
          "scene": {
           "xaxis": {
            "backgroundcolor": "#E5ECF6",
            "gridcolor": "white",
            "gridwidth": 2,
            "linecolor": "white",
            "showbackground": true,
            "ticks": "",
            "zerolinecolor": "white"
           },
           "yaxis": {
            "backgroundcolor": "#E5ECF6",
            "gridcolor": "white",
            "gridwidth": 2,
            "linecolor": "white",
            "showbackground": true,
            "ticks": "",
            "zerolinecolor": "white"
           },
           "zaxis": {
            "backgroundcolor": "#E5ECF6",
            "gridcolor": "white",
            "gridwidth": 2,
            "linecolor": "white",
            "showbackground": true,
            "ticks": "",
            "zerolinecolor": "white"
           }
          },
          "shapedefaults": {
           "line": {
            "color": "#2a3f5f"
           }
          },
          "ternary": {
           "aaxis": {
            "gridcolor": "white",
            "linecolor": "white",
            "ticks": ""
           },
           "baxis": {
            "gridcolor": "white",
            "linecolor": "white",
            "ticks": ""
           },
           "bgcolor": "#E5ECF6",
           "caxis": {
            "gridcolor": "white",
            "linecolor": "white",
            "ticks": ""
           }
          },
          "title": {
           "x": 0.05
          },
          "xaxis": {
           "automargin": true,
           "gridcolor": "white",
           "linecolor": "white",
           "ticks": "",
           "title": {
            "standoff": 15
           },
           "zerolinecolor": "white",
           "zerolinewidth": 2
          },
          "yaxis": {
           "automargin": true,
           "gridcolor": "white",
           "linecolor": "white",
           "ticks": "",
           "title": {
            "standoff": 15
           },
           "zerolinecolor": "white",
           "zerolinewidth": 2
          }
         }
        },
        "title": {
         "text": "3D Hand Pose with Point Labels"
        }
       }
      }
     },
     "metadata": {},
     "output_type": "display_data"
    },
    {
     "data": {
      "application/vnd.plotly.v1+json": {
       "config": {
        "plotlyServerURL": "https://plot.ly"
       },
       "data": [
        {
         "marker": {
          "color": "blue",
          "size": 4
         },
         "mode": "markers+text",
         "name": "Landmarks",
         "text": [
          "0",
          "1",
          "2",
          "3",
          "4",
          "5",
          "6",
          "7",
          "8",
          "9",
          "10",
          "11",
          "12",
          "13",
          "14",
          "15",
          "16",
          "17",
          "18",
          "19"
         ],
         "textfont": {
          "color": "black",
          "size": 8
         },
         "textposition": "top center",
         "type": "scatter3d",
         "x": {
          "bdata": "AAAAAN/no772yAG/acQhv+ex1bokrjO+uAKTvkBoyr4EaX66P/Yvvg4kn776zeG+7WYavXCGiL7YavO+EognvwgHvb09f8S+udcXv6wJS78=",
          "dtype": "f4"
         },
         "y": {
          "bdata": "AAAAAD8EBj+QlUw//ZV8PwR9eD/40K4/eGPOPwH55j+B6X8/OE/BPz4z5z/eWP8/uTBrPx/tsT/kydA/mzrkP6K5Qz/RX4o/rs2dP2Bkqz8=",
          "dtype": "f4"
         },
         "z": {
          "bdata": "AAAAADRg9z7eYis/k5ZPP1wKZz72TZk+lP6wPjsgxD4Bto28tbk7vdwYeL3VdIu97zVlvqjBrr7LaMm+rhTYvvZgzL5Q6xS/epYov7hHNL8=",
          "dtype": "f4"
         }
        },
        {
         "line": {
          "color": "black",
          "width": 2
         },
         "mode": "lines",
         "showlegend": false,
         "type": "scatter3d",
         "x": [
          0,
          -0.3201284110546112
         ],
         "y": [
          0,
          0.5235022902488708
         ],
         "z": [
          0,
          0.48315584659576416
         ]
        },
        {
         "line": {
          "color": "black",
          "width": 2
         },
         "mode": "lines",
         "showlegend": false,
         "type": "scatter3d",
         "x": [
          -0.3201284110546112,
          -0.5069726705551147
         ],
         "y": [
          0.5235022902488708,
          0.7991571426391602
         ],
         "z": [
          0.48315584659576416,
          0.6694773435592651
         ]
        },
        {
         "line": {
          "color": "black",
          "width": 2
         },
         "mode": "lines",
         "showlegend": false,
         "type": "scatter3d",
         "x": [
          -0.5069726705551147,
          -0.6319032311439514
         ],
         "y": [
          0.7991571426391602,
          0.9866636395454407
         ],
         "z": [
          0.6694773435592651,
          0.810891330242157
         ]
        },
        {
         "line": {
          "color": "black",
          "width": 2
         },
         "mode": "lines",
         "showlegend": false,
         "type": "scatter3d",
         "x": [
          0,
          -0.001630362938158214
         ],
         "y": [
          0,
          0.9706575870513916
         ],
         "z": [
          0,
          0.22562545537948608
         ]
        },
        {
         "line": {
          "color": "black",
          "width": 2
         },
         "mode": "lines",
         "showlegend": false,
         "type": "scatter3d",
         "x": [
          -0.001630362938158214,
          -0.17546898126602173
         ],
         "y": [
          0.9706575870513916,
          1.3657522201538086
         ],
         "z": [
          0.22562545537948608,
          0.2994229197502136
         ]
        },
        {
         "line": {
          "color": "black",
          "width": 2
         },
         "mode": "lines",
         "showlegend": false,
         "type": "scatter3d",
         "x": [
          -0.17546898126602173,
          -0.28713011741638184
         ],
         "y": [
          1.3657522201538086,
          1.612410545349121
         ],
         "z": [
          0.2994229197502136,
          0.3456922769546509
         ]
        },
        {
         "line": {
          "color": "black",
          "width": 2
         },
         "mode": "lines",
         "showlegend": false,
         "type": "scatter3d",
         "x": [
          -0.28713011741638184,
          -0.3953266143798828
         ],
         "y": [
          1.612410545349121,
          1.8044739961624146
         ],
         "z": [
          0.3456922769546509,
          0.3830583989620209
         ]
        },
        {
         "line": {
          "color": "black",
          "width": 2
         },
         "mode": "lines",
         "showlegend": false,
         "type": "scatter3d",
         "x": [
          0,
          -0.0009704979602247477
         ],
         "y": [
          0,
          0.9996567368507385
         ],
         "z": [
          0,
          -0.017298700287938118
         ]
        },
        {
         "line": {
          "color": "black",
          "width": 2
         },
         "mode": "lines",
         "showlegend": false,
         "type": "scatter3d",
         "x": [
          -0.0009704979602247477,
          -0.17183779180049896
         ],
         "y": [
          0.9996567368507385,
          1.5102300643920898
         ],
         "z": [
          -0.017298700287938118,
          -0.04583140090107918
         ]
        },
        {
         "line": {
          "color": "black",
          "width": 2
         },
         "mode": "lines",
         "showlegend": false,
         "type": "scatter3d",
         "x": [
          -0.17183779180049896,
          -0.3108219504356384
         ],
         "y": [
          1.5102300643920898,
          1.8062512874603271
         ],
         "z": [
          -0.04583140090107918,
          -0.06057058274745941
         ]
        },
        {
         "line": {
          "color": "black",
          "width": 2
         },
         "mode": "lines",
         "showlegend": false,
         "type": "scatter3d",
         "x": [
          -0.3108219504356384,
          -0.4410246014595032
         ],
         "y": [
          1.8062512874603271,
          1.9948995113372803
         ],
         "z": [
          -0.06057058274745941,
          -0.0680939331650734
         ]
        },
        {
         "line": {
          "color": "black",
          "width": 2
         },
         "mode": "lines",
         "showlegend": false,
         "type": "scatter3d",
         "x": [
          0,
          -0.03769581392407417
         ],
         "y": [
          0,
          0.9187121987342834
         ],
         "z": [
          0,
          -0.22383855283260345
         ]
        },
        {
         "line": {
          "color": "black",
          "width": 2
         },
         "mode": "lines",
         "showlegend": false,
         "type": "scatter3d",
         "x": [
          -0.03769581392407417,
          -0.2666506767272949
         ],
         "y": [
          0.9187121987342834,
          1.390048861503601
         ],
         "z": [
          -0.22383855283260345,
          -0.3413212299346924
         ]
        },
        {
         "line": {
          "color": "black",
          "width": 2
         },
         "mode": "lines",
         "showlegend": false,
         "type": "scatter3d",
         "x": [
          -0.2666506767272949,
          -0.47542452812194824
         ],
         "y": [
          1.390048861503601,
          1.6311612129211426
         ],
         "z": [
          -0.3413212299346924,
          -0.3933776319026947
         ]
        },
        {
         "line": {
          "color": "black",
          "width": 2
         },
         "mode": "lines",
         "showlegend": false,
         "type": "scatter3d",
         "x": [
          -0.47542452812194824,
          -0.654420018196106
         ],
         "y": [
          1.6311612129211426,
          1.7830384969711304
         ],
         "z": [
          -0.3933776319026947,
          -0.42203277349472046
         ]
        },
        {
         "line": {
          "color": "black",
          "width": 2
         },
         "mode": "lines",
         "showlegend": false,
         "type": "scatter3d",
         "x": [
          0,
          -0.09229856729507446
         ],
         "y": [
          0,
          0.7645512819290161
         ],
         "z": [
          0,
          -0.3991772532463074
         ]
        },
        {
         "line": {
          "color": "black",
          "width": 2
         },
         "mode": "lines",
         "showlegend": false,
         "type": "scatter3d",
         "x": [
          -0.09229856729507446,
          -0.3837832510471344
         ],
         "y": [
          0.7645512819290161,
          1.0810490846633911
         ],
         "z": [
          -0.3991772532463074,
          -0.5817155838012695
         ]
        },
        {
         "line": {
          "color": "black",
          "width": 2
         },
         "mode": "lines",
         "showlegend": false,
         "type": "scatter3d",
         "x": [
          -0.3837832510471344,
          -0.593135416507721
         ],
         "y": [
          1.0810490846633911,
          1.2328393459320068
         ],
         "z": [
          -0.5817155838012695,
          -0.6585460901260376
         ]
        },
        {
         "line": {
          "color": "black",
          "width": 2
         },
         "mode": "lines",
         "showlegend": false,
         "type": "scatter3d",
         "x": [
          -0.593135416507721,
          -0.7931163311004639
         ],
         "y": [
          1.2328393459320068,
          1.3390007019042969
         ],
         "z": [
          -0.6585460901260376,
          -0.7042193412780762
         ]
        },
        {
         "line": {
          "color": "black",
          "width": 2
         },
         "mode": "lines",
         "showlegend": false,
         "type": "scatter3d",
         "x": [
          -0.3201284110546112,
          -0.001630362938158214
         ],
         "y": [
          0.5235022902488708,
          0.9706575870513916
         ],
         "z": [
          0.48315584659576416,
          0.22562545537948608
         ]
        },
        {
         "line": {
          "color": "black",
          "width": 2
         },
         "mode": "lines",
         "showlegend": false,
         "type": "scatter3d",
         "x": [
          -0.001630362938158214,
          -0.0009704979602247477
         ],
         "y": [
          0.9706575870513916,
          0.9996567368507385
         ],
         "z": [
          0.22562545537948608,
          -0.017298700287938118
         ]
        },
        {
         "line": {
          "color": "black",
          "width": 2
         },
         "mode": "lines",
         "showlegend": false,
         "type": "scatter3d",
         "x": [
          -0.0009704979602247477,
          -0.03769581392407417
         ],
         "y": [
          0.9996567368507385,
          0.9187121987342834
         ],
         "z": [
          -0.017298700287938118,
          -0.22383855283260345
         ]
        },
        {
         "line": {
          "color": "black",
          "width": 2
         },
         "mode": "lines",
         "showlegend": false,
         "type": "scatter3d",
         "x": [
          -0.03769581392407417,
          -0.09229856729507446
         ],
         "y": [
          0.9187121987342834,
          0.7645512819290161
         ],
         "z": [
          -0.22383855283260345,
          -0.3991772532463074
         ]
        }
       ],
       "layout": {
        "margin": {
         "b": 0,
         "l": 0,
         "r": 0,
         "t": 30
        },
        "scene": {
         "xaxis": {
          "autorange": "reversed",
          "title": {
           "text": "X"
          }
         },
         "yaxis": {
          "title": {
           "text": "Y"
          }
         },
         "zaxis": {
          "title": {
           "text": "Z"
          }
         }
        },
        "template": {
         "data": {
          "bar": [
           {
            "error_x": {
             "color": "#2a3f5f"
            },
            "error_y": {
             "color": "#2a3f5f"
            },
            "marker": {
             "line": {
              "color": "#E5ECF6",
              "width": 0.5
             },
             "pattern": {
              "fillmode": "overlay",
              "size": 10,
              "solidity": 0.2
             }
            },
            "type": "bar"
           }
          ],
          "barpolar": [
           {
            "marker": {
             "line": {
              "color": "#E5ECF6",
              "width": 0.5
             },
             "pattern": {
              "fillmode": "overlay",
              "size": 10,
              "solidity": 0.2
             }
            },
            "type": "barpolar"
           }
          ],
          "carpet": [
           {
            "aaxis": {
             "endlinecolor": "#2a3f5f",
             "gridcolor": "white",
             "linecolor": "white",
             "minorgridcolor": "white",
             "startlinecolor": "#2a3f5f"
            },
            "baxis": {
             "endlinecolor": "#2a3f5f",
             "gridcolor": "white",
             "linecolor": "white",
             "minorgridcolor": "white",
             "startlinecolor": "#2a3f5f"
            },
            "type": "carpet"
           }
          ],
          "choropleth": [
           {
            "colorbar": {
             "outlinewidth": 0,
             "ticks": ""
            },
            "type": "choropleth"
           }
          ],
          "contour": [
           {
            "colorbar": {
             "outlinewidth": 0,
             "ticks": ""
            },
            "colorscale": [
             [
              0,
              "#0d0887"
             ],
             [
              0.1111111111111111,
              "#46039f"
             ],
             [
              0.2222222222222222,
              "#7201a8"
             ],
             [
              0.3333333333333333,
              "#9c179e"
             ],
             [
              0.4444444444444444,
              "#bd3786"
             ],
             [
              0.5555555555555556,
              "#d8576b"
             ],
             [
              0.6666666666666666,
              "#ed7953"
             ],
             [
              0.7777777777777778,
              "#fb9f3a"
             ],
             [
              0.8888888888888888,
              "#fdca26"
             ],
             [
              1,
              "#f0f921"
             ]
            ],
            "type": "contour"
           }
          ],
          "contourcarpet": [
           {
            "colorbar": {
             "outlinewidth": 0,
             "ticks": ""
            },
            "type": "contourcarpet"
           }
          ],
          "heatmap": [
           {
            "colorbar": {
             "outlinewidth": 0,
             "ticks": ""
            },
            "colorscale": [
             [
              0,
              "#0d0887"
             ],
             [
              0.1111111111111111,
              "#46039f"
             ],
             [
              0.2222222222222222,
              "#7201a8"
             ],
             [
              0.3333333333333333,
              "#9c179e"
             ],
             [
              0.4444444444444444,
              "#bd3786"
             ],
             [
              0.5555555555555556,
              "#d8576b"
             ],
             [
              0.6666666666666666,
              "#ed7953"
             ],
             [
              0.7777777777777778,
              "#fb9f3a"
             ],
             [
              0.8888888888888888,
              "#fdca26"
             ],
             [
              1,
              "#f0f921"
             ]
            ],
            "type": "heatmap"
           }
          ],
          "histogram": [
           {
            "marker": {
             "pattern": {
              "fillmode": "overlay",
              "size": 10,
              "solidity": 0.2
             }
            },
            "type": "histogram"
           }
          ],
          "histogram2d": [
           {
            "colorbar": {
             "outlinewidth": 0,
             "ticks": ""
            },
            "colorscale": [
             [
              0,
              "#0d0887"
             ],
             [
              0.1111111111111111,
              "#46039f"
             ],
             [
              0.2222222222222222,
              "#7201a8"
             ],
             [
              0.3333333333333333,
              "#9c179e"
             ],
             [
              0.4444444444444444,
              "#bd3786"
             ],
             [
              0.5555555555555556,
              "#d8576b"
             ],
             [
              0.6666666666666666,
              "#ed7953"
             ],
             [
              0.7777777777777778,
              "#fb9f3a"
             ],
             [
              0.8888888888888888,
              "#fdca26"
             ],
             [
              1,
              "#f0f921"
             ]
            ],
            "type": "histogram2d"
           }
          ],
          "histogram2dcontour": [
           {
            "colorbar": {
             "outlinewidth": 0,
             "ticks": ""
            },
            "colorscale": [
             [
              0,
              "#0d0887"
             ],
             [
              0.1111111111111111,
              "#46039f"
             ],
             [
              0.2222222222222222,
              "#7201a8"
             ],
             [
              0.3333333333333333,
              "#9c179e"
             ],
             [
              0.4444444444444444,
              "#bd3786"
             ],
             [
              0.5555555555555556,
              "#d8576b"
             ],
             [
              0.6666666666666666,
              "#ed7953"
             ],
             [
              0.7777777777777778,
              "#fb9f3a"
             ],
             [
              0.8888888888888888,
              "#fdca26"
             ],
             [
              1,
              "#f0f921"
             ]
            ],
            "type": "histogram2dcontour"
           }
          ],
          "mesh3d": [
           {
            "colorbar": {
             "outlinewidth": 0,
             "ticks": ""
            },
            "type": "mesh3d"
           }
          ],
          "parcoords": [
           {
            "line": {
             "colorbar": {
              "outlinewidth": 0,
              "ticks": ""
             }
            },
            "type": "parcoords"
           }
          ],
          "pie": [
           {
            "automargin": true,
            "type": "pie"
           }
          ],
          "scatter": [
           {
            "fillpattern": {
             "fillmode": "overlay",
             "size": 10,
             "solidity": 0.2
            },
            "type": "scatter"
           }
          ],
          "scatter3d": [
           {
            "line": {
             "colorbar": {
              "outlinewidth": 0,
              "ticks": ""
             }
            },
            "marker": {
             "colorbar": {
              "outlinewidth": 0,
              "ticks": ""
             }
            },
            "type": "scatter3d"
           }
          ],
          "scattercarpet": [
           {
            "marker": {
             "colorbar": {
              "outlinewidth": 0,
              "ticks": ""
             }
            },
            "type": "scattercarpet"
           }
          ],
          "scattergeo": [
           {
            "marker": {
             "colorbar": {
              "outlinewidth": 0,
              "ticks": ""
             }
            },
            "type": "scattergeo"
           }
          ],
          "scattergl": [
           {
            "marker": {
             "colorbar": {
              "outlinewidth": 0,
              "ticks": ""
             }
            },
            "type": "scattergl"
           }
          ],
          "scattermap": [
           {
            "marker": {
             "colorbar": {
              "outlinewidth": 0,
              "ticks": ""
             }
            },
            "type": "scattermap"
           }
          ],
          "scattermapbox": [
           {
            "marker": {
             "colorbar": {
              "outlinewidth": 0,
              "ticks": ""
             }
            },
            "type": "scattermapbox"
           }
          ],
          "scatterpolar": [
           {
            "marker": {
             "colorbar": {
              "outlinewidth": 0,
              "ticks": ""
             }
            },
            "type": "scatterpolar"
           }
          ],
          "scatterpolargl": [
           {
            "marker": {
             "colorbar": {
              "outlinewidth": 0,
              "ticks": ""
             }
            },
            "type": "scatterpolargl"
           }
          ],
          "scatterternary": [
           {
            "marker": {
             "colorbar": {
              "outlinewidth": 0,
              "ticks": ""
             }
            },
            "type": "scatterternary"
           }
          ],
          "surface": [
           {
            "colorbar": {
             "outlinewidth": 0,
             "ticks": ""
            },
            "colorscale": [
             [
              0,
              "#0d0887"
             ],
             [
              0.1111111111111111,
              "#46039f"
             ],
             [
              0.2222222222222222,
              "#7201a8"
             ],
             [
              0.3333333333333333,
              "#9c179e"
             ],
             [
              0.4444444444444444,
              "#bd3786"
             ],
             [
              0.5555555555555556,
              "#d8576b"
             ],
             [
              0.6666666666666666,
              "#ed7953"
             ],
             [
              0.7777777777777778,
              "#fb9f3a"
             ],
             [
              0.8888888888888888,
              "#fdca26"
             ],
             [
              1,
              "#f0f921"
             ]
            ],
            "type": "surface"
           }
          ],
          "table": [
           {
            "cells": {
             "fill": {
              "color": "#EBF0F8"
             },
             "line": {
              "color": "white"
             }
            },
            "header": {
             "fill": {
              "color": "#C8D4E3"
             },
             "line": {
              "color": "white"
             }
            },
            "type": "table"
           }
          ]
         },
         "layout": {
          "annotationdefaults": {
           "arrowcolor": "#2a3f5f",
           "arrowhead": 0,
           "arrowwidth": 1
          },
          "autotypenumbers": "strict",
          "coloraxis": {
           "colorbar": {
            "outlinewidth": 0,
            "ticks": ""
           }
          },
          "colorscale": {
           "diverging": [
            [
             0,
             "#8e0152"
            ],
            [
             0.1,
             "#c51b7d"
            ],
            [
             0.2,
             "#de77ae"
            ],
            [
             0.3,
             "#f1b6da"
            ],
            [
             0.4,
             "#fde0ef"
            ],
            [
             0.5,
             "#f7f7f7"
            ],
            [
             0.6,
             "#e6f5d0"
            ],
            [
             0.7,
             "#b8e186"
            ],
            [
             0.8,
             "#7fbc41"
            ],
            [
             0.9,
             "#4d9221"
            ],
            [
             1,
             "#276419"
            ]
           ],
           "sequential": [
            [
             0,
             "#0d0887"
            ],
            [
             0.1111111111111111,
             "#46039f"
            ],
            [
             0.2222222222222222,
             "#7201a8"
            ],
            [
             0.3333333333333333,
             "#9c179e"
            ],
            [
             0.4444444444444444,
             "#bd3786"
            ],
            [
             0.5555555555555556,
             "#d8576b"
            ],
            [
             0.6666666666666666,
             "#ed7953"
            ],
            [
             0.7777777777777778,
             "#fb9f3a"
            ],
            [
             0.8888888888888888,
             "#fdca26"
            ],
            [
             1,
             "#f0f921"
            ]
           ],
           "sequentialminus": [
            [
             0,
             "#0d0887"
            ],
            [
             0.1111111111111111,
             "#46039f"
            ],
            [
             0.2222222222222222,
             "#7201a8"
            ],
            [
             0.3333333333333333,
             "#9c179e"
            ],
            [
             0.4444444444444444,
             "#bd3786"
            ],
            [
             0.5555555555555556,
             "#d8576b"
            ],
            [
             0.6666666666666666,
             "#ed7953"
            ],
            [
             0.7777777777777778,
             "#fb9f3a"
            ],
            [
             0.8888888888888888,
             "#fdca26"
            ],
            [
             1,
             "#f0f921"
            ]
           ]
          },
          "colorway": [
           "#636efa",
           "#EF553B",
           "#00cc96",
           "#ab63fa",
           "#FFA15A",
           "#19d3f3",
           "#FF6692",
           "#B6E880",
           "#FF97FF",
           "#FECB52"
          ],
          "font": {
           "color": "#2a3f5f"
          },
          "geo": {
           "bgcolor": "white",
           "lakecolor": "white",
           "landcolor": "#E5ECF6",
           "showlakes": true,
           "showland": true,
           "subunitcolor": "white"
          },
          "hoverlabel": {
           "align": "left"
          },
          "hovermode": "closest",
          "mapbox": {
           "style": "light"
          },
          "paper_bgcolor": "white",
          "plot_bgcolor": "#E5ECF6",
          "polar": {
           "angularaxis": {
            "gridcolor": "white",
            "linecolor": "white",
            "ticks": ""
           },
           "bgcolor": "#E5ECF6",
           "radialaxis": {
            "gridcolor": "white",
            "linecolor": "white",
            "ticks": ""
           }
          },
          "scene": {
           "xaxis": {
            "backgroundcolor": "#E5ECF6",
            "gridcolor": "white",
            "gridwidth": 2,
            "linecolor": "white",
            "showbackground": true,
            "ticks": "",
            "zerolinecolor": "white"
           },
           "yaxis": {
            "backgroundcolor": "#E5ECF6",
            "gridcolor": "white",
            "gridwidth": 2,
            "linecolor": "white",
            "showbackground": true,
            "ticks": "",
            "zerolinecolor": "white"
           },
           "zaxis": {
            "backgroundcolor": "#E5ECF6",
            "gridcolor": "white",
            "gridwidth": 2,
            "linecolor": "white",
            "showbackground": true,
            "ticks": "",
            "zerolinecolor": "white"
           }
          },
          "shapedefaults": {
           "line": {
            "color": "#2a3f5f"
           }
          },
          "ternary": {
           "aaxis": {
            "gridcolor": "white",
            "linecolor": "white",
            "ticks": ""
           },
           "baxis": {
            "gridcolor": "white",
            "linecolor": "white",
            "ticks": ""
           },
           "bgcolor": "#E5ECF6",
           "caxis": {
            "gridcolor": "white",
            "linecolor": "white",
            "ticks": ""
           }
          },
          "title": {
           "x": 0.05
          },
          "xaxis": {
           "automargin": true,
           "gridcolor": "white",
           "linecolor": "white",
           "ticks": "",
           "title": {
            "standoff": 15
           },
           "zerolinecolor": "white",
           "zerolinewidth": 2
          },
          "yaxis": {
           "automargin": true,
           "gridcolor": "white",
           "linecolor": "white",
           "ticks": "",
           "title": {
            "standoff": 15
           },
           "zerolinecolor": "white",
           "zerolinewidth": 2
          }
         }
        },
        "title": {
         "text": "3D Hand Pose with Point Labels"
        }
       }
      }
     },
     "metadata": {},
     "output_type": "display_data"
    }
   ],
   "source": [
    "from random import randint\n",
    "\n",
    "i = randint(0, 1000)\n",
    "\n",
    "plot_3d_hand(y[i])\n",
    "plot_3d_hand(y_hat[i])"
   ]
  }
 ],
 "metadata": {
  "kernelspec": {
   "display_name": "Python 3",
   "language": "python",
   "name": "python3"
  },
  "language_info": {
   "codemirror_mode": {
    "name": "ipython",
    "version": 3
   },
   "file_extension": ".py",
   "mimetype": "text/x-python",
   "name": "python",
   "nbconvert_exporter": "python",
   "pygments_lexer": "ipython3",
   "version": "3.10.11"
  }
 },
 "nbformat": 4,
 "nbformat_minor": 5
}
